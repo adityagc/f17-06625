{
 "cells": [
  {
   "cell_type": "markdown",
   "metadata": {},
   "source": [
    "$$\\require{mhchem}$$       "
   ]
  },
  {
   "cell_type": "markdown",
   "metadata": {},
   "source": [
    "- Label the x/y axis of graphs (and legend if appropriate)\n",
    "- Comment your code so we understand what you're doing\n",
    "- 'print' your identified solutions / fitted constants with units"
   ]
  },
  {
   "cell_type": "markdown",
   "metadata": {},
   "source": [
    "# Effectiveness factors (30 pt)"
   ]
  },
  {
   "cell_type": "markdown",
   "metadata": {},
   "source": [
    "The following second-order gas-phase catalytic reaction is conducted in an isothermal fixed-bed reactor.\n",
    "\\begin{align*}\n",
    "\\ce{A->B}\n",
    "\\end{align*}\n",
    "The volumetric rate constant inside the catalyst particle is 15.0 L/mol/s at 800 K.\n",
    "The feed is 1,500 L/hr of pure A at 10.0 atm and 800 K.\n",
    "Spherical catalyst pellets of radius 1.2 cm are used to pack the reactor.\n",
    "The catalyst particles have a density of 0.9 g/cm$^3$.\n",
    "The effective diffusivity of A inside the catalyst pellet is 2.06 $\\times 10^{-4}$ cm$^2$/s.\n",
    "There is no pressure drop."
   ]
  },
  {
   "cell_type": "markdown",
   "metadata": {},
   "source": [
    "####  Calculate the Thiele modulus at the inlet of the reactor. (6 pt)"
   ]
  },
  {
   "cell_type": "markdown",
   "metadata": {},
   "source": [
    "####  Calculate the reaction rate per gram of catalyst particle at the inlet of the reactor. Use the following modified form for the effective reaction rate: (4 pt)\n",
    "\\begin{equation}\n",
    "r = -k\\: c_{As}^n\\frac{\\eta}{\\rho_{cat}}\n",
    "\\end{equation}"
   ]
  },
  {
   "cell_type": "markdown",
   "metadata": {},
   "source": [
    "#### Calculate the concentration profile of $A$ for a reactor with 50 kg of catalyst. Note that $C_A$ is varying, so the Thiele modulus and effectiveness factor will change as well. (15 pt)"
   ]
  },
  {
   "cell_type": "markdown",
   "metadata": {},
   "source": [
    "#### Calculate the mass of catalyst necessary to reach 85% conversion. (5 pt)"
   ]
  },
  {
   "cell_type": "markdown",
   "metadata": {},
   "source": [
    "# Transient, non-isothermal reactor (50 pt)"
   ]
  },
  {
   "cell_type": "markdown",
   "metadata": {},
   "source": [
    "The liquid phase reactions\n",
    "\\begin{align*}\n",
    "\\ce{A->B}\\\\\n",
    "\\ce{A->C}\n",
    "\\end{align*}\n",
    "are each first order in the concentration of A.  The feed to a nonisothermal transient CSTR contains pure A at 45 $^{\\circ}$C and 5 mol/L.  We want to operate this reactor such that the selectivity to B is greater than the selectivity to C.  The following parameters apply:\n",
    "\n",
    "| Parameter       | Value                                    | Units   |\n",
    "|-----------------|------------------------------------------|---------|\n",
    "| $M_t$           | 93,200                                   | g/min   |\n",
    "| $\\Delta H_{r1}$ | -12,000                                  | cal/mol |\n",
    "| $\\Delta H_{r2}$ | -15,000                                  | cal/mol |\n",
    "| V               | 1,000                                    | L       |\n",
    "| $Q_f$           | 100                                      | L/min   |\n",
    "| $C_{pf}$        | 0.22                                     | cal/g/K |\n",
    "| $k_1$           | $3.16 \\times 10^{14}\\exp (-12,500 [K]/T)$ | 1/min   |\n",
    "| $k_2$           | $2.52 \\times 10^{9}\\exp (-8,500 [K]/T) $  | 1/min   |\n",
    "\n",
    "The CSTR has a cooling bath at 50 $^{\\circ}$C and a $Ua$ of 100,000 cal/min/K.  The reactor initially starts at 45 $^{\\circ}$C and C$_a$=C$_b$=C$_c$=0 M. The total mass in the reactor is $V M_t / Q_f$."
   ]
  },
  {
   "cell_type": "markdown",
   "metadata": {},
   "source": [
    "#### If you want to increase selectivity in the reactor ($C_B/C_C$), should you increase or decrease the temperature in the reactor? (5 pt)"
   ]
  },
  {
   "cell_type": "markdown",
   "metadata": {},
   "source": [
    "#### Calculate the  transient temperature and concentrations in this reactor.  You may assume the heats of reactions are constant w.r.t to temperature ( since Cpa=Cpb=Cpc, dCp=0) for the first 40 minutes. (30 pt)"
   ]
  },
  {
   "cell_type": "markdown",
   "metadata": {},
   "source": [
    "#### Calculate the cumulative selectivity of this reactor at 40 min, defined as $C_B/C_C$, as a function of the bath temperature, from 30 $^{\\circ}$C to 60 $^{\\circ}$C. (10 pt)"
   ]
  },
  {
   "cell_type": "markdown",
   "metadata": {},
   "source": [
    "#### Describe the profile and selectivity plots you made (a few sentences or bullets). Discuss any abnormalities you may see and why they appear. [5 pt]"
   ]
  },
  {
   "cell_type": "markdown",
   "metadata": {},
   "source": [
    "# Short answers (explain with 1-2 sentences)"
   ]
  },
  {
   "cell_type": "markdown",
   "metadata": {},
   "source": [
    "#### A 5-L adiabatic, catalytic PFR has a conversion of 55% for the reaction A(g) $\\rightarrow$ B(g). The inlet flow rate was cut in half, but the conversion only increased to 56%. Of the three following explanations, which one(s) may explain this phenomenon? (5 pt)\n",
    "1. reaction is limited by mass transfer\t\n",
    "2. reaction is equilibrium limited\t\n",
    "3. the decrease in velocity due to the increase in moles limits the conversion\t"
   ]
  },
  {
   "cell_type": "markdown",
   "metadata": {},
   "source": [
    "#### The concentration of A vs. distance in a PFR is shown for the first-order, exothermic reaction A $\\rightarrow$ B. One curve represents an isothermal reactor, and the other an adiabatic reactor. Which statement is correct? (5 pt)\n",
    "- 1 is adiabatic, 2 is isothermal\t\n",
    "- 1 is isothermal, 2 is adiabatic\t\n",
    "- Either could be adiabatic or isothermal\t\n",
    "\n",
    "![img](./20110902212632130d3e0582858752caea2af4d16c43da.gif)\n"
   ]
  },
  {
   "cell_type": "markdown",
   "metadata": {},
   "source": [
    "#### At a fixed O$_2$ pressure for the reaction:  (5 pt)\n",
    "\n",
    "$\\ce{CO + 1/2O2 -> CO2}$\n",
    "\n",
    "the CO pressure increased from zero to a large number. If the reaction follows the Langmuir-Hinshelwood mechanism, what happens to the rate of reaction?\n",
    "- goes through a maximum\t\n",
    "- goes through a minimum\t\n",
    "- increases slowly at first, then more rapidly\t\n",
    "- increases quickly at first, then more slowly\t"
   ]
  },
  {
   "cell_type": "markdown",
   "metadata": {},
   "source": [
    "#### A plot of rate versus distance along an adiabatic PFR for a 1st-order reaction is shown below (original). Which curve (A,B,C, D) will the plot look like if the feed temperature were increased? (5 pt)\n",
    "![img](./2011090310020582250ee1b17678c159deb817f8252880.gif)\n"
   ]
  },
  {
   "cell_type": "code",
   "execution_count": null,
   "metadata": {
    "collapsed": true
   },
   "outputs": [],
   "source": []
  }
 ],
 "metadata": {
  "kernelspec": {
   "display_name": "Python 3",
   "language": "python",
   "name": "python3"
  },
  "language_info": {
   "codemirror_mode": {
    "name": "ipython",
    "version": 3
   },
   "file_extension": ".py",
   "mimetype": "text/x-python",
   "name": "python",
   "nbconvert_exporter": "python",
   "pygments_lexer": "ipython3",
   "version": "3.6.2"
  },
  "toc": {
   "colors": {
    "hover_highlight": "#DAA520",
    "navigate_num": "#000000",
    "navigate_text": "#333333",
    "running_highlight": "#FF0000",
    "selected_highlight": "#FFD700",
    "sidebar_border": "#EEEEEE",
    "wrapper_background": "#FFFFFF"
   },
   "moveMenuLeft": true,
   "nav_menu": {
    "height": "11px",
    "width": "252px"
   },
   "navigate_menu": true,
   "number_sections": true,
   "sideBar": true,
   "threshold": 4,
   "toc_cell": false,
   "toc_section_display": "block",
   "toc_window_display": false,
   "widenNotebook": false
  }
 },
 "nbformat": 4,
 "nbformat_minor": 2
}
