{
 "cells": [
  {
   "cell_type": "markdown",
   "metadata": {
    "toc": "true"
   },
   "source": [
    "# Table of Contents\n",
    " <p><div class=\"lev1 toc-item\"><a href=\"#Reverse-water-gas-shift-catalysis\" data-toc-modified-id=\"Reverse-water-gas-shift-catalysis-1\"><span class=\"toc-item-num\">1&nbsp;&nbsp;</span>Reverse water gas shift catalysis</a></div><div class=\"lev2 toc-item\"><a href=\"#[20-pt]-The-authors-propose-the-following-associative-elementary-reaction-mechanism:\" data-toc-modified-id=\"[20-pt]-The-authors-propose-the-following-associative-elementary-reaction-mechanism:-11\"><span class=\"toc-item-num\">1.1&nbsp;&nbsp;</span>[20 pt] The authors propose the following associative elementary reaction mechanism:</a></div><div class=\"lev2 toc-item\"><a href=\"#[20-pt]-We-can-assume-simplified-Langmuir-Hinshelwood-kinetics-of-the-form:\" data-toc-modified-id=\"[20-pt]-We-can-assume-simplified-Langmuir-Hinshelwood-kinetics-of-the-form:-12\"><span class=\"toc-item-num\">1.2&nbsp;&nbsp;</span>[20 pt] We can assume simplified Langmuir Hinshelwood kinetics of the form:</a></div><div class=\"lev2 toc-item\"><a href=\"#[15-pt]-Now-use-the-same-data-to-fit-a-k-and-alpha-for-a-simple-power-law-(below).\" data-toc-modified-id=\"[15-pt]-Now-use-the-same-data-to-fit-a-k-and-alpha-for-a-simple-power-law-(below).-13\"><span class=\"toc-item-num\">1.3&nbsp;&nbsp;</span>[15 pt] Now use the same data to fit a $k$ and $\\alpha$ for a simple power law (below).</a></div><div class=\"lev2 toc-item\"><a href=\"#[5-pt]-Of-the-three-rate-laws-(the-one-proposed-in-literature,-the-simplified-Langmuir-Hinshelwood,-and-the-power-law),-which-one-would-you-use?-Why?\" data-toc-modified-id=\"[5-pt]-Of-the-three-rate-laws-(the-one-proposed-in-literature,-the-simplified-Langmuir-Hinshelwood,-and-the-power-law),-which-one-would-you-use?-Why?-14\"><span class=\"toc-item-num\">1.4&nbsp;&nbsp;</span>[5 pt] Of the three rate laws (the one proposed in literature, the simplified Langmuir Hinshelwood, and the power law), which one would you use? Why?</a></div><div class=\"lev2 toc-item\"><a href=\"#[40-pt]-Under-reverse-water-gas-shift-conditions,-the-experimental-team-found-that--the-experimental-rate-data-could-be-approximated-with\" data-toc-modified-id=\"[40-pt]-Under-reverse-water-gas-shift-conditions,-the-experimental-team-found-that--the-experimental-rate-data-could-be-approximated-with-15\"><span class=\"toc-item-num\">1.5&nbsp;&nbsp;</span>[40 pt] Under reverse water gas shift conditions, the experimental team found that  the experimental rate data could be approximated with</a></div>"
   ]
  },
  {
   "cell_type": "markdown",
   "metadata": {},
   "source": [
    "$$\\require{mhchem}$$       "
   ]
  },
  {
   "cell_type": "markdown",
   "metadata": {},
   "source": [
    "- You are welcome to turn in work for the mechanism derivation on a separate sheet of paper for a small penalty (2 pt). Please do so by taking a photo of the pages and uploading them to the same Box folder.  Also hand in the physical sheet of paper.\n",
    "- Label the x/y axis of graphs (and legend if appropriate)\n",
    "- Comment your code so we understand what you're doing\n",
    "- 'print' your identified solutions / fitted constants with units"
   ]
  },
  {
   "cell_type": "markdown",
   "metadata": {},
   "source": [
    "# Reverse water gas shift catalysis\n",
    "\n",
    "The reverse water gas shift reaction (rWGS) has been proposed as a way of turning waste CO$_2$ into carbon monoxide, which can be further hydrogenated to liquid fuels.  This reaction is as follows in the gas phase:\n",
    "\\begin{align}\n",
    "\\ce{CO2 + H2 <=> CO + H2O}\n",
    "\\end{align}\n",
    "The reverse water gas shift reaction is usually conducted on CuO/ZnO catalysts supported by alumina, but a group in literature suggested that a TiO$_2$ supported Pt catalyst might be more active.  You're going to help them estimate a reduced mechanism for this catalytic reaction."
   ]
  },
  {
   "cell_type": "markdown",
   "metadata": {},
   "source": [
    "##  [20 pt] The authors propose the following associative elementary reaction mechanism: \n",
    "\\begin{align*}\n",
    "\\ce{CO2(g) + S &<=>[K_{1}] CO2*S}\\\\\n",
    "\\ce{H2(g) + S &<=>[K_{2}] H2\\cdot S}\\\\\n",
    "\\ce{CO2\\cdot S + H2 \\cdot S &<=>[K_{eq}] CO\\cdot S + H2O \\cdot S}\\\\\n",
    "\\ce{CO \\cdot S &<=>[K_{4}] CO(g) + S}\\\\\n",
    "\\ce{H2O \\cdot S &<=>[K_{5}] H2O(g) + S}\n",
    "\\end{align*}\n",
    "Assuming that the third step ($\\ce{CO2\\cdot S + H2 \\cdot S <=> CO\\cdot S + H2O \\cdot S\\:}$) is rate limiting, derive the apparent reaction rate law for the this mechanism at short time conditions, where $[CO]$, $[H_2O]$, $[CO\\cdot S]$, and $[H_2O\\cdot S]$ are all ~0.  This is a heterogeneous catalytic process, so the total number of surface sites is conserved."
   ]
  },
  {
   "cell_type": "markdown",
   "metadata": {},
   "source": [
    "$r_3 = k_3(fwd).\\frac{[S0].([CO_2][H_2].K1.K2 - \\frac{[CO][H_2O]}{(K3.K4.K5)}}{(1+K1[CO_2]+K2[H_2]+[CO]/K4 + [H_2O]/K5)).}$"
   ]
  },
  {
   "cell_type": "markdown",
   "metadata": {},
   "source": [
    "## [20 pt] We can assume simplified Langmuir Hinshelwood kinetics of the form: \n",
    "\\begin{align*}\n",
    "r=\\frac{kP_{CO2}P_{H_2}}{(1+K_1P_{CO2}+K_2P_{H_2})^2}\n",
    "\\end{align*}\n",
    "where $K_1$ is already known from other studies:  0.07/atm. Use this simplified Langmuir Hinshelwood rate law to fit values of $k$ and $K_2$ for the following data:\n",
    "\n",
    "| $P_{CO_2}$[atm] | $P_{H_2}$[atm] | Rate [mol/h/gcat] |\n",
    "|----------:|---------:|------------------:|\n",
    "|       0.9 |     0.18 |              0.037 |\n",
    "|       0.9 |     0.42 |              0.045 |\n",
    "|       0.9 |      0.6 |              0.046 |\n",
    "|       0.9 |     0.85 |              0.051 |\n",
    "|       0.9 |     0.92 |             0.0525 |\n",
    "In addition to finding $k,K_2$, also plot your fit with the data."
   ]
  },
  {
   "cell_type": "code",
   "execution_count": 1,
   "metadata": {},
   "outputs": [
    {
     "name": "stdout",
     "output_type": "stream",
     "text": [
      "Value of k is 0.370473662012  /atm.time and value of K2 is 1.55420499528 atm-1\n"
     ]
    },
    {
     "data": {
      "image/png": "[encoded data removed]",
      "text/plain": [
       "<matplotlib.figure.Figure at 0x7f11c77f5a20>"
      ]
     },
     "metadata": {},
     "output_type": "display_data"
    }
   ],
   "source": [
    "import numpy as np\n",
    "from scipy.optimize import curve_fit\n",
    "K1 = 0.07 #atm\n",
    "#k, K2 are the parameters\n",
    "\n",
    "#DATA:\n",
    "x = [0.18,0.42,0.6,0.85,0.92] #atm #ph2\n",
    "y = [0.037,0.045,0.046,0.051,0.0525] #mol/h/gcat #rate\n",
    "\n",
    "#nonlinear regression problem\n",
    "\n",
    "def func (x,k,K2):\n",
    "    return (k * 0.9 * x) / (1+K1*0.9+ K2*x)**2 #defining the curve fit function\n",
    "\n",
    "guess = [1,1] # guess value for curve fit parameters \n",
    "\n",
    "ans,err = curve_fit(func,x,y,p0 = guess) #curve fitting based on data and guess value of parameters\n",
    "\n",
    "print(\"Value of k is\", ans[0],\" /atm.time and value of K2 is\",ans[1],\"atm-1\")\n",
    "\n",
    "#data plotting\n",
    "\n",
    "import matplotlib.pyplot as plt\n",
    "plt.plot(x,y,'bo ')\n",
    "\n",
    "x_reg = np.linspace(0,1)\n",
    "y_reg = func(x_reg, ans[0], ans[1])\n",
    "plt.plot(x_reg,y_reg)\n",
    "\n",
    "plt.title(\"fit vs data\")\n",
    "plt.legend(['data','fit'],loc='best')\n",
    "plt.xlabel('pH2')\n",
    "plt.ylabel('rate')\n",
    "plt.show()"
   ]
  },
  {
   "cell_type": "markdown",
   "metadata": {},
   "source": [
    "##  [15 pt] Now use the same data to fit a $k$ and $\\alpha$ for a simple power law (below). \n",
    "\\begin{align*}\n",
    "r=k P_{CO_2}^{0.831}P_{H2}^\\alpha\n",
    "\\end{align*}\n",
    "Plot your fit and the data."
   ]
  },
  {
   "cell_type": "code",
   "execution_count": 2,
   "metadata": {},
   "outputs": [
    {
     "name": "stdout",
     "output_type": "stream",
     "text": [
      "Value of k is 0.0576008011923 atm-1.t-1 and value of alpha is 0.206841852835\n"
     ]
    },
    {
     "data": {
      "image/png": "[encoded data removed]",
      "text/plain": [
       "<matplotlib.figure.Figure at 0x7f11b4d8f048>"
      ]
     },
     "metadata": {},
     "output_type": "display_data"
    }
   ],
   "source": [
    "import numpy as np\n",
    "from scipy.optimize import curve_fit\n",
    "\n",
    "#k, K2 are the parameters\n",
    "\n",
    "#DATA:\n",
    "x = [0.18,0.42,0.6,0.85,0.92] #atm #ph2\n",
    "y = [0.037,0.045,0.046,0.051,0.0525] #mol/h/gcat #rate\n",
    "\n",
    "#nonlinear regression problem\n",
    "\n",
    "def func (x,k,alpha):\n",
    "    return k * 0.9**0.831 * x**alpha #defining the curve fit function\n",
    "\n",
    "guess = [1,1] # guess value for curve fit parameters \n",
    "\n",
    "ans,err = curve_fit(func,x,y,p0 = guess) #curve fitting based on data and guess value of parameters\n",
    "print(\"Value of k is\", ans[0],\"atm-1.t-1 and value of alpha is\",ans[1])\n",
    "\n",
    "#data plotting\n",
    "import matplotlib.pyplot as plt\n",
    "plt.plot(x,y,'bo ')\n",
    "\n",
    "x_reg = np.linspace(0,1)\n",
    "y_reg = func(x_reg, ans[0], ans[1])\n",
    "plt.plot(x_reg,y_reg)\n",
    "\n",
    "plt.title(\"fit vs data\")\n",
    "plt.legend(['data','fit'],loc='best')\n",
    "plt.xlabel('pH2')\n",
    "plt.ylabel('rate')\n",
    "plt.show()"
   ]
  },
  {
   "cell_type": "markdown",
   "metadata": {},
   "source": [
    "## [5 pt] Of the three rate laws (the one proposed in literature, the simplified Langmuir Hinshelwood, and the power law), which one would you use? Why? "
   ]
  },
  {
   "cell_type": "markdown",
   "metadata": {},
   "source": [
    "I would rank the models in decreasing levels of accuracy as follows:\n",
    "Literature > Power law > Langmuir Hinshelwood\n",
    "\n",
    "- From the graph, we can see that Power law is clearly a better fit for the data as compared to L-H kinetics. Naturally, it would have a better R^2 value too.\n",
    "- We do not have experimental data in favor of the literature based law but it involves splitting the reaction into 5 steps which describes the physics accurately.\n",
    "- However, we would need experimental data on the first model in order to have a fair comparison\n"
   ]
  },
  {
   "cell_type": "markdown",
   "metadata": {},
   "source": [
    "KT:  \"Clearly a better fit\" should be quantified with an RMSE or an R$^2$ value. I know you allude to it, but if you want to say something like that, then calculate the number. Also, you have no proof that the literature model \"describes the physics accurately\".\n",
    "\n",
    "Generally correct logic, but try to be more robust and scientific about your explanation.\n",
    "\n",
    "4.5/5.0"
   ]
  },
  {
   "cell_type": "markdown",
   "metadata": {},
   "source": [
    "## [40 pt] Under reverse water gas shift conditions, the experimental team found that  the experimental rate data could be approximated with\n",
    "\\begin{align}\n",
    "\\ce{CO2 + H2 <=> CO + H2O}\n",
    "\\end{align}\n",
    "\n",
    "\\begin{align}\n",
    "r=k P_{CO2}^{0.831}P_{H2}^{0.201}\n",
    "\\end{align}\n",
    "where $k=0.060$ [mol CO2 h$^{-1}$ $g_{cat}^{-1}$ atm$^{-1.032}$].  For simplicity, assume that there is only a forward rate of reaction (no reverse). Assuming a packed bed reactor with pressure drop ($\\alpha=2\\times 10^{-5}/g_{cat}$), plot the CO$_2$ and H$_2$ molar flow rates and the pressure profile for an inlet stream of 0.5 mol/s each of CO$_2$ and H$_2$ at a temperature of 573 K and a total pressure of 3.4 atm as a function of catalyst weight (up to 10,000 g). The reactor is isothermal and because the net change in mols for the reaction is 0, isobaric."
   ]
  },
  {
   "cell_type": "code",
   "execution_count": 4,
   "metadata": {},
   "outputs": [
    {
     "data": {
      "image/png": "[encoded data removed]",
      "text/plain": [
       "<matplotlib.figure.Figure at 0x7f11b4c32f28>"
      ]
     },
     "metadata": {},
     "output_type": "display_data"
    }
   ],
   "source": [
    "import numpy as np\n",
    "from scipy.integrate import odeint\n",
    "\n",
    "k = 0.0006 #mol CO2 h −1−1   g−1catgcat−1  atm −1.032\n",
    "alpha = 2* 10**(-5) #/gcat\n",
    "T = 573. #K\n",
    "P0 = 3.4 #atm\n",
    "Wmax = 10000. #gram\n",
    "\n",
    "Fco2in = 0.5 #mol/s\n",
    "Fh2in = 0.5 #mol/s\n",
    "y0 = 1\n",
    "Ft0 = Fco2in + Fh2in\n",
    "Fin_y0 = [Fco2in,Fh2in,0,0,y0]\n",
    "\n",
    "def PBR (F,W):\n",
    "    Fco2,Fh2,Fco,Fh2o,y = F #unpacking variables\n",
    "    \n",
    "    Pt = y * P0 #Total pressure as a function of y\n",
    "    \n",
    "    #partial pressures\n",
    "    Pco2 = Fco2/Ft0 * Pt #\n",
    "    Ph2 = Fh2/Ft0 * Pt\n",
    "    Pco = Fco/Ft0 * Pt\n",
    "    Ph2o = Fh2o/Ft0 * Pt\n",
    "    \n",
    "    #rate equations\n",
    "    r = k * Pco2**0.831 * Ph2**0.201 #check the units of k! (-5)\n",
    "    rco2 = -r\n",
    "    rh2 = -r\n",
    "    rco = r\n",
    "    rh2o = r\n",
    "    \n",
    "    #mole balance equations\n",
    "    dFco2dW = rco2\n",
    "    dFh2dW = rh2\n",
    "    dFcodW = rco\n",
    "    dFh2odW = rh2o\n",
    "    dydW = -1 * alpha  / (2 * y)\n",
    "    \n",
    "    dFdW = [dFco2dW,dFh2dW,dFcodW,dFh2odW,dydW]\n",
    "    return dFdW\n",
    "\n",
    "Wspan  = np.linspace(0,10000,10000) \n",
    "sol = odeint(PBR,Fin_y0, Wspan)\n",
    "#print(ans)\n",
    "Fco2 = sol[:, 0]\n",
    "Fh2 = sol[:, 1]\n",
    "Fco = sol[:, 2]\n",
    "Fh2o = sol[:, 3]\n",
    "Fy = sol[:, 4]\n",
    "\n",
    "import matplotlib.pyplot as plt\n",
    "plt.plot(Wspan,Fco2,'--',Wspan,Fh2,Wspan,Fco,Wspan,Fh2o,'--')\n",
    "plt.title(\"Flowrate vs weight of catalyst along PBR\")\n",
    "plt.xlabel('weight in grams')\n",
    "plt.ylabel('flowrate in mol/s ')\n",
    "plt.legend(['CO2','H2','CO','H2O'])\n",
    "\n",
    "plt.show()\n",
    "\n",
    "#you had to plot the pressure vs catalyst weight too! (-8)\n",
    "#27"
   ]
  },
  {
   "cell_type": "code",
   "execution_count": null,
   "metadata": {
    "collapsed": true
   },
   "outputs": [],
   "source": []
  }
 ],
 "metadata": {
  "kernelspec": {
   "display_name": "Python 2",
   "language": "python",
   "name": "python2"
  },
  "language_info": {
   "codemirror_mode": {
    "name": "ipython",
    "version": 2
   },
   "file_extension": ".py",
   "mimetype": "text/x-python",
   "name": "python",
   "nbconvert_exporter": "python",
   "pygments_lexer": "ipython2",
   "version": "2.7.13"
  },
  "toc": {
   "colors": {
    "hover_highlight": "#DAA520",
    "navigate_num": "#000000",
    "navigate_text": "#333333",
    "running_highlight": "#FF0000",
    "selected_highlight": "#FFD700",
    "sidebar_border": "#EEEEEE",
    "wrapper_background": "#FFFFFF"
   },
   "moveMenuLeft": true,
   "nav_menu": {
    "height": "11px",
    "width": "252px"
   },
   "navigate_menu": true,
   "number_sections": true,
   "sideBar": false,
   "threshold": 4,
   "toc_cell": true,
   "toc_position": {
    "height": "228px",
    "left": "3px",
    "right": "20px",
    "top": "110px",
    "width": "212px"
   },
   "toc_section_display": "none",
   "toc_window_display": true,
   "widenNotebook": false
  }
 },
 "nbformat": 4,
 "nbformat_minor": 2
}
