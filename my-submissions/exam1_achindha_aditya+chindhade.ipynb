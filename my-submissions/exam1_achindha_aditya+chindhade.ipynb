{
 "cells": [
  {
   "cell_type": "markdown",
   "metadata": {},
   "source": [
    "$$\\require{mhchem}$$      \n"
   ]
  },
  {
   "cell_type": "code",
   "execution_count": 1,
   "metadata": {},
   "outputs": [
    {
     "name": "stdout",
     "output_type": "stream",
     "text": [
      "Requirement already up-to-date: pycse==1.6.3 in /opt/conda/lib/python3.6/site-packages\n",
      "Collecting quantities==0.10.1 (from pycse==1.6.3)\n",
      "Installing collected packages: quantities\n",
      "  Found existing installation: quantities 0.12.1\n",
      "    Uninstalling quantities-0.12.1:\n",
      "      Successfully uninstalled quantities-0.12.1\n",
      "Successfully installed quantities-0.10.1\n",
      "Requirement already up-to-date: uncertainties in /opt/conda/lib/python3.6/site-packages\n",
      "Requirement already up-to-date: quantities in /opt/conda/lib/python3.6/site-packages\n"
     ]
    },
    {
     "name": "stderr",
     "output_type": "stream",
     "text": [
      "Exception:\n",
      "Traceback (most recent call last):\n",
      "  File \"/opt/conda/lib/python3.6/site-packages/pip/basecommand.py\", line 215, in main\n",
      "    status = self.run(options, args)\n",
      "  File \"/opt/conda/lib/python3.6/site-packages/pip/commands/install.py\", line 335, in run\n",
      "    wb.build(autobuilding=True)\n",
      "  File \"/opt/conda/lib/python3.6/site-packages/pip/wheel.py\", line 749, in build\n",
      "    self.requirement_set.prepare_files(self.finder)\n",
      "  File \"/opt/conda/lib/python3.6/site-packages/pip/req/req_set.py\", line 380, in prepare_files\n",
      "    ignore_dependencies=self.ignore_dependencies))\n",
      "  File \"/opt/conda/lib/python3.6/site-packages/pip/req/req_set.py\", line 666, in _prepare_file\n",
      "    check_dist_requires_python(dist)\n",
      "  File \"/opt/conda/lib/python3.6/site-packages/pip/utils/packaging.py\", line 48, in check_dist_requires_python\n",
      "    feed_parser.feed(metadata)\n",
      "  File \"/opt/conda/lib/python3.6/email/feedparser.py\", line 175, in feed\n",
      "    self._input.push(data)\n",
      "  File \"/opt/conda/lib/python3.6/email/feedparser.py\", line 103, in push\n",
      "    self._partial.write(data)\n",
      "TypeError: string argument expected, got 'NoneType'\n"
     ]
    },
    {
     "data": {
      "text/plain": [
       "2"
      ]
     },
     "execution_count": 1,
     "metadata": {},
     "output_type": "execute_result"
    }
   ],
   "source": [
    "import pip\n",
    "pip.main(['install', '-U', 'pycse==1.6.3'])\n",
    "pip.main(['install', '-U', 'uncertainties'])\n",
    "pip.main(['install', '-U', 'quantities'])\n"
   ]
  },
  {
   "cell_type": "markdown",
   "metadata": {},
   "source": [
    "# Exam 1 Problem 1 (60 pts)"
   ]
  },
  {
   "cell_type": "markdown",
   "metadata": {},
   "source": [
    " We have a liquid feed of A and B, with concentration of A 2M and concentration of B 3M, with a total flow rate of 0.1 m$^3$/s.  We are looking to optimize the conversion of the reaction: \n",
    "\\begin{align*}\n",
    "\\ce{A + 2B -> C}\n",
    "\\end{align*}\n",
    "You can assume in all cases the reaction is isothermal and the volume does not change with changes in the molar flow rates of the reactants.  The reaction is elementary and the rate constant is $k_1=0.1 dm^6/mol^2/s$\n",
    "\n"
   ]
  },
  {
   "cell_type": "markdown",
   "metadata": {},
   "source": [
    "## First, find the maximum extent of reaction $\\xi^{max}$ and write the rate equation $r$. (5 pts)"
   ]
  },
  {
   "cell_type": "markdown",
   "metadata": {},
   "source": [
    "$\\alpha A = -1,$ \n",
    "$\\alpha B = -2$\n",
    "\n",
    "Ca0 = 2M\n",
    "\n",
    "Cb0 = 3M\n",
    "\n",
    "$\\xi^{max}$ = - Ca0/ $\\alpha A $ = -2/-1 = 2 M\n",
    "\n",
    "\n",
    "$\\xi^{max}$ = - Cb0/ $\\alpha A $ = -3/-2 = 1.5 M\n",
    "\n",
    "We pick the smaller one as the larger one would give us negative concentration values.\n",
    "\n",
    "Hence $\\xi^{max}$ = 1.5 M\n",
    "\n",
    "r =  $k1 .Ca(Cb)^2$\n",
    "\n",
    "\n",
    "$r = 0.1 Ca(Cb)^2$ $(mol/(dm^3.s))$"
   ]
  },
  {
   "cell_type": "markdown",
   "metadata": {},
   "source": [
    "# Now, find the extent of reaction for a steady state 100 L CSTR with the feed and flow rate from above. (10 pts)\n",
    "<img src=\"E1P1B.png\" alt=\"Drawing\" style=\"width: 300px;\"/>\n"
   ]
  },
  {
   "cell_type": "code",
   "execution_count": 54,
   "metadata": {},
   "outputs": [
    {
     "name": "stdout",
     "output_type": "stream",
     "text": [
      "[ 146.07168524  192.14337048]\n",
      "The extent is  53.9283147615 moles/sec and the intrinsic extent is 0.539283147615 moles/lit/s\n"
     ]
    }
   ],
   "source": [
    "from scipy.optimize import fsolve\n",
    "\n",
    "k1 = 0.1 #dm^6/mol^2/s\n",
    "V = 100 #l\n",
    "v0 = 100 #l^3.s\n",
    "Ca0 = 2 #M\n",
    "Cb0 = 3 #M\n",
    "Cc0 = 0 #M\n",
    "\n",
    "Fa0 = Ca0 * v0\n",
    "Fb0 = Cb0 * v0\n",
    "Fc0 = Cc0 * v0\n",
    "\n",
    "def CSTR(F):\n",
    "    Fa,Fb = F\n",
    "    \n",
    "    Ca = Fa / v0\n",
    "    Cb = Fb / v0\n",
    "    #Cc = Fc/ v0\n",
    "    \n",
    "    r = k1 * Ca * Cb**2\n",
    "    \n",
    "    ra = -1 * r\n",
    "    rb = -2 * r\n",
    "    #rc = r\n",
    "    \n",
    "    a = Fa0 - v0* Ca + ra*V\n",
    "    b= Fb0 - v0*Cb + rb*V\n",
    "    #dFcdt = Fc0 - Fc + rc*V\n",
    "    \n",
    "    return a,b\n",
    "\n",
    "an = fsolve(CSTR,[100,100])\n",
    "print (an)\n",
    "\n",
    "Faexit = an[0]\n",
    "Fbexit = an[1]\n",
    "\n",
    "X = (Faexit-Fa0)/-1\n",
    "eta = X/V\n",
    "\n",
    "print (\"The extent is \",X,\"moles/sec and the intrinsic extent is\",eta,\"moles/lit/s\")"
   ]
  },
  {
   "cell_type": "code",
   "execution_count": 100,
   "metadata": {},
   "outputs": [
    {
     "name": "stdout",
     "output_type": "stream",
     "text": [
      "[ 0.22005157]\n"
     ]
    }
   ],
   "source": [
    "from scipy.optimize import fsolve\n",
    "\n",
    "k1 = 0.1 #dm^6/mol^2/s\n",
    "V = 100 #l\n",
    "v0 = 100 #l^3.s\n",
    "Ca0 = 2 #M\n",
    "Cb0 = 3 #M\n",
    "Cc0 = 0 #M\n",
    "\n",
    "Fa0 = Ca0 * v0\n",
    "Fb0 = Cb0 * v0\n",
    "Fc0 = Cc0 * v0\n",
    "\n",
    "def CSTR(eta):\n",
    "\n",
    "    r = k1 * Ca0*(1-eta) * (Cb0*(1-2*eta))**2\n",
    "    \n",
    "    ra = -1 * r\n",
    "   \n",
    "    a = Fa0 - v0* Ca0*(1-eta) + ra*V\n",
    "    \n",
    "    return a\n",
    "\n",
    "an = fsolve(CSTR,0.5)\n",
    "print (an)\n"
   ]
  },
  {
   "cell_type": "markdown",
   "metadata": {},
   "source": [
    "## Find the final extent of reaction for a 100 L PFR (10 pts)\n",
    "<img src=\"E1P1C.png\" alt=\"Drawing\" style=\"width: 300px;\"/>\n"
   ]
  },
  {
   "cell_type": "code",
   "execution_count": 48,
   "metadata": {
    "scrolled": true
   },
   "outputs": [
    {
     "name": "stdout",
     "output_type": "stream",
     "text": [
      "The final extent of reaction is 71.9835030533  moles/s and the final intrinsic extent is  0.719835030533 moles/lit/s\n"
     ]
    }
   ],
   "source": [
    "from scipy.integrate import odeint\n",
    "import numpy as np\n",
    "\n",
    "k1 = 0.1 #dm^6/mol^2/s\n",
    "V = 100 #l\n",
    "v0 = 100 #l^3.s\n",
    "Ca0 = 2 #M\n",
    "Cb0 = 3 #M\n",
    "Cc0 = 0 #M\n",
    "\n",
    "Fa0 = Ca0 * v0\n",
    "Fb0 = Cb0 * v0\n",
    "Fc0 = Cc0 * v0\n",
    "F0 = [Fa0,Fb0,Fc0]\n",
    "\n",
    "def PFR(F,V):\n",
    "    Fa,Fb,Fc = F\n",
    "    \n",
    "    Ca = Fa / v0\n",
    "    Cb = Fb / v0\n",
    "    Cc = Fc/ v0\n",
    "    \n",
    "    r = k1 * Ca * Cb**2\n",
    "    \n",
    "    ra = -1 * r\n",
    "    rb = -2 * r\n",
    "    rc = r\n",
    "    \n",
    "    dFadV = ra\n",
    "    dFbdV = rb\n",
    "    dFcdV = rc\n",
    "    \n",
    "    return dFadV,dFbdV,dFcdV\n",
    "\n",
    "Vspan = np.linspace(0,100)\n",
    "\n",
    "a = odeint(PFR,F0,Vspan)\n",
    "#print (a)\n",
    "Faexit = a[-1,0] \n",
    "Fbexit = a[-1,1] \n",
    "Fcexit = a[-1,2] \n",
    "\n",
    "\n",
    "X =  (Faexit-Fa0)/-1\n",
    "eta = X/v0\n",
    "\n",
    "print (\"The final extent of reaction is\",X, \" moles/s and the final intrinsic extent is \",eta,\"moles/lit/s\") "
   ]
  },
  {
   "cell_type": "markdown",
   "metadata": {},
   "source": [
    "## Our operators tell us that they really like working with CSTR's and suggest that you use several CSTR's in series.  The total volume of CSTR's should equal 100 L.  For example, if you have 4 CSTR's, then  each will have a volume of 25 L.  The outflow of each CSTR is the same as the inflow to the next CSTR.  The extent of reaction for each reactor can be solved based on the extent of reaction from the previous reactor (sequentially).  Calculate the extent of reaction for the four reactor situation. (20 pts)\n",
    "<img src=\"E1P1D.png\" alt=\"Drawing\" style=\"width: 500px;\"/>\n"
   ]
  },
  {
   "cell_type": "code",
   "execution_count": 119,
   "metadata": {},
   "outputs": [
    {
     "name": "stdout",
     "output_type": "stream",
     "text": [
      "Faexit: 173.524 Fbexit: 247.047 reactor number: 1\n",
      "Faexit: 163.802 Fbexit: 154.080 reactor number: 2\n",
      "Faexit: 155.405 Fbexit: 147.009 reactor number: 3\n",
      "Faexit: 148.073 Fbexit: 140.740 reactor number: 4\n",
      "final conversion is 0.519271719527\n"
     ]
    },
    {
     "data": {
      "image/png": "[encoded data removed]",
      "text/plain": [
       "<matplotlib.figure.Figure at 0x7f3cf9c1d208>"
      ]
     },
     "metadata": {},
     "output_type": "display_data"
    }
   ],
   "source": [
    "from scipy.optimize import fsolve\n",
    "\n",
    "k1 = 0.1 #dm^6/mol^2/s\n",
    "V = 100 #l\n",
    "v0 = 100 #l^3.s\n",
    "\n",
    "Ca0 = 2 #M\n",
    "Cb0 = 3 #M\n",
    "Cc0 = 0 #M\n",
    "\n",
    "Fa0 = Ca0 * v0\n",
    "Fb0 = Cb0 * v0\n",
    "Fc0 = Cc0 * v0\n",
    "ETA = []\n",
    "for i in range (0,4):\n",
    "    \n",
    "\n",
    "    Fain = Ca0 * v0\n",
    "    Fbin = Cb0 * v0\n",
    "    #Fc0 = Cc0 * v0\n",
    "\n",
    "    def CSTR(F):\n",
    "        Fa,Fb = F\n",
    "\n",
    "        Ca = Fa / v0\n",
    "        Cb = Fb / v0\n",
    "        #Cc = Fc/ v0\n",
    "\n",
    "        r = k1 * Ca * Cb**2\n",
    "\n",
    "        ra = -1 * r\n",
    "        rb = -2 * r\n",
    "        #rc = r\n",
    "\n",
    "        a = Fain - v0* Ca + ra*(V/4)\n",
    "        b= Fbin - v0*Cb + rb*(V/4)\n",
    "        #dFcdt = Fc0 - Fc + rc*V\n",
    "\n",
    "        return a,b\n",
    "\n",
    "    an = fsolve(CSTR,[100,100])\n",
    "    \n",
    "\n",
    "    Faexit = an[0]\n",
    "    Fbexit = an[1]\n",
    "    print (\"Faexit: {0:1.3f}\".format(Faexit),\"Fbexit: {0:1.3f}\".format(Fbexit),\"reactor number:\", i+1)\n",
    "    \n",
    "    Caexit = Faexit / v0\n",
    "    Cbexit = Faexit / v0\n",
    "    \n",
    "    Ca0 = Caexit\n",
    "    Cb0 = Cbexit\n",
    "    X = (Faexit-Fa0)/-1\n",
    "    eta = X/V\n",
    "    ETA.append(eta)\n",
    "    #print (\"The extent is \",X,\"moles/sec and the intrinsic extent is\",eta,\"moles/lit/s \\n\")\n",
    "\n",
    "#print(ETA)\n",
    "Reactors = np.linspace(1,4,4)\n",
    "#print (Reactors)\n",
    "\n",
    "\n",
    "print (\"final conversion is\",ETA[-1])\n",
    "import matplotlib.pyplot as plt\n",
    "plt.plot(Reactors,ETA)\n",
    "plt.xlabel(\"Number of reactors\")\n",
    "plt.ylabel(\"Extent (mol/lit.s)\")\n",
    "plt.title(\"Graph of number of reactors vs extent\")\n",
    "plt.show()"
   ]
  },
  {
   "cell_type": "markdown",
   "metadata": {},
   "source": [
    "## Plot the final extent of reaction for this approach from 1 to 10 reactors, and compare to the conversions from the CSTR and PFR examples above. (9 pts)"
   ]
  },
  {
   "cell_type": "code",
   "execution_count": 95,
   "metadata": {},
   "outputs": [
    {
     "name": "stdout",
     "output_type": "stream",
     "text": [
      "Faexit: 186.187 Fbexit: 272.374 reactor number: 1\n",
      "Faexit: 180.648 Fbexit: 175.109 reactor number: 2\n",
      "Faexit: 175.548 Fbexit: 170.448 reactor number: 3\n",
      "Faexit: 170.834 Fbexit: 166.119 reactor number: 4\n",
      "Faexit: 166.460 Fbexit: 162.087 reactor number: 5\n",
      "Faexit: 162.390 Fbexit: 158.320 reactor number: 6\n",
      "Faexit: 158.590 Fbexit: 154.790 reactor number: 7\n",
      "Faexit: 155.033 Fbexit: 151.476 reactor number: 8\n",
      "Faexit: 151.694 Fbexit: 148.356 reactor number: 9\n",
      "Faexit: 148.553 Fbexit: 145.412 reactor number: 10\n",
      "[0.13812816695627589, 0.19352037993712826, 0.24452132468611665, 0.29166394508273752, 0.33539675108370742, 0.37609999883204609, 0.41409828376563068, 0.44967044032852471, 0.48305739676914927, 0.51446846132173729]\n",
      "[  1.   2.   3.   4.   5.   6.   7.   8.   9.  10.]\n"
     ]
    },
    {
     "data": {
      "image/png": "[encoded data removed]",
      "text/plain": [
       "<matplotlib.figure.Figure at 0x7f3cf9e9b470>"
      ]
     },
     "metadata": {},
     "output_type": "display_data"
    }
   ],
   "source": [
    "from scipy.optimize import fsolve\n",
    "\n",
    "k1 = 0.1 #dm^6/mol^2/s\n",
    "V = 100 #l\n",
    "v0 = 100 #l^3.s\n",
    "\n",
    "Ca0 = 2 #M\n",
    "Cb0 = 3 #M\n",
    "Cc0 = 0 #M\n",
    "\n",
    "Fa0 = Ca0 * v0\n",
    "Fb0 = Cb0 * v0\n",
    "Fc0 = Cc0 * v0\n",
    "ETA = []\n",
    "for i in range (0,10):\n",
    "    \n",
    "\n",
    "    Fain = Ca0 * v0\n",
    "    Fbin = Cb0 * v0\n",
    "    #Fc0 = Cc0 * v0\n",
    "\n",
    "    def CSTR(F):\n",
    "        Fa,Fb = F\n",
    "\n",
    "        Ca = Fa / v0\n",
    "        Cb = Fb / v0\n",
    "        #Cc = Fc/ v0\n",
    "\n",
    "        r = k1 * Ca * Cb**2\n",
    "\n",
    "        ra = -1 * r\n",
    "        rb = -2 * r\n",
    "        #rc = r\n",
    "\n",
    "        a = Fain - v0* Ca + ra*(V/10)\n",
    "        b= Fbin - v0*Cb + rb*(V/10)\n",
    "        #dFcdt = Fc0 - Fc + rc*V\n",
    "\n",
    "        return a,b\n",
    "\n",
    "    an = fsolve(CSTR,[100,100])\n",
    "    \n",
    "\n",
    "    Faexit = an[0]\n",
    "    Fbexit = an[1]\n",
    "    print (\"Faexit: {0:1.3f}\".format(Faexit),\"Fbexit: {0:1.3f}\".format(Fbexit),\"reactor number:\", i+1)\n",
    "    \n",
    "    Caexit = Faexit / v0\n",
    "    Cbexit = Faexit / v0\n",
    "    \n",
    "    Ca0 = Caexit\n",
    "    Cb0 = Cbexit\n",
    "    X = (Faexit-Fa0)/-1\n",
    "    eta = X/V\n",
    "    ETA.append(eta)\n",
    "    #print (\"The extent is \",X,\"moles/sec and the intrinsic extent is\",eta,\"moles/lit/s \\n\")\n",
    "\n",
    "print(ETA)\n",
    "Reactors = np.linspace(1,10,10)\n",
    "print (Reactors)\n",
    "\n",
    "import matplotlib.pyplot as plt\n",
    "plt.plot(Reactors,ETA)\n",
    "plt.xlabel(\"Number of reactors\")\n",
    "plt.ylabel(\"Extent (mol/lit.s)\")\n",
    "plt.title(\"Graph of number of reactors vs extent\")\n",
    "plt.show()\n"
   ]
  },
  {
   "cell_type": "markdown",
   "metadata": {},
   "source": [
    "As we increase the number of reactors, the conversion of the system of CSTRs approaches the conversion of an equivalent PFR with the same total volume."
   ]
  },
  {
   "cell_type": "markdown",
   "metadata": {},
   "source": [
    "## We are considering adding a membrane to the PFR.  We have a few options.  For each, answer qualitatively if you think the conversion of A would increase, decrease, or stay the same, and why: (2 pts each)\n",
    "- A membrane that allows A to be added slowly through the side of the PFR (w/ pure B inlet), total molar flow rate of A & B the same\n",
    "- A membrane that allows B to be added slowly through the side of the PFR (w/ pure A inlet), total molar flow rate of A & B the same\n",
    "- A membrane that allows C to be removed continuously through the side of the PDF"
   ]
  },
  {
   "cell_type": "markdown",
   "metadata": {},
   "source": [
    "Case 1) Conversion would decrease as the time for which A and B are allowed to interact would decrease. It increases selectivity at the cost of conversion.\n",
    "\n",
    "Case 2) Conversion would decrease as the time for which A and B are allowed to interact would decrease. It increases selectivity at the cost of conversion\n",
    "\n",
    "Case 3) If C is removed, the equillibrium is pushed toward the right and hence conversion would increase"
   ]
  },
  {
   "cell_type": "markdown",
   "metadata": {},
   "source": []
  },
  {
   "cell_type": "markdown",
   "metadata": {},
   "source": [
    "# Exam 1 Problem 2 (40 pts)"
   ]
  },
  {
   "cell_type": "markdown",
   "metadata": {},
   "source": [
    "We are looking to design a liquid phase membrane PFR (V=10L) with three channels for the rection system:\n",
    "\\begin{align}\n",
    "\\ce{A + B -> 4C}, k_1=0.1/M/s\\\\\n",
    "\\ce{A + C -> 3D}, k_2=0.5/M/s\n",
    "\\end{align}\n",
    "The inner channel contains a feed of pure A with a concentration of 1M and flow rate of 2 L/s. A is very large and cannot pass any membrane. B,C,D can pass the first membrane ($k_{b,1}'=0.2/s,k_{c,1}'=0.4/s,k_{d,1}'=0.5/s$) between the inner and outer sections.  C,D are very small and can also pass the outer membrane ($k_{c,2}'=0.5/s,k_{d,2}'=0.7/s$) between the middle and outer sections. You may assume the volumetric flow rates are constant.  The middle-channel is counter-current (flowing opposite to the inner and outer shells).\n",
    "![img](./E1P2.png)\n"
   ]
  },
  {
   "cell_type": "markdown",
   "metadata": {},
   "source": [
    "## Write the mol balance for each of the 9 species (A,B,C,D in inner, B,C,D in middle, C,D in outer), as well as the boundary conditions on the left side of the reactor (i.e. inlet of inner shell).  (20 pts)"
   ]
  },
  {
   "cell_type": "markdown",
   "metadata": {},
   "source": []
  },
  {
   "cell_type": "markdown",
   "metadata": {},
   "source": [
    "## Solve for and plot the concentration profiles for each species along the length of the reactor. (20 pts)"
   ]
  },
  {
   "cell_type": "code",
   "execution_count": null,
   "metadata": {},
   "outputs": [],
   "source": []
  }
 ],
 "metadata": {
  "kernelspec": {
   "display_name": "Python 3",
   "language": "python",
   "name": "python3"
  },
  "language_info": {
   "codemirror_mode": {
    "name": "ipython",
    "version": 3
   },
   "file_extension": ".py",
   "mimetype": "text/x-python",
   "name": "python",
   "nbconvert_exporter": "python",
   "pygments_lexer": "ipython3",
   "version": "3.6.2"
  },
  "toc": {
   "colors": {
    "hover_highlight": "#DAA520",
    "navigate_num": "#000000",
    "navigate_text": "#333333",
    "running_highlight": "#FF0000",
    "selected_highlight": "#FFD700",
    "sidebar_border": "#EEEEEE",
    "wrapper_background": "#FFFFFF"
   },
   "moveMenuLeft": true,
   "nav_menu": {
    "height": "11px",
    "width": "252px"
   },
   "navigate_menu": true,
   "number_sections": true,
   "sideBar": true,
   "threshold": 4,
   "toc_cell": false,
   "toc_section_display": "block",
   "toc_window_display": false,
   "widenNotebook": false
  }
 },
 "nbformat": 4,
 "nbformat_minor": 2
}
