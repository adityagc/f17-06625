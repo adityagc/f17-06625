{
 "cells": [
  {
   "cell_type": "markdown",
   "metadata": {},
   "source": [
    "19.4/20.0\n",
    "\n",
    "KT:  Good work."
   ]
  },
  {
   "cell_type": "markdown",
   "metadata": {},
   "source": [
    "$$\\require{mhchem}$$       "
   ]
  },
  {
   "cell_type": "code",
   "execution_count": 1,
   "metadata": {},
   "outputs": [
    {
     "name": "stdout",
     "output_type": "stream",
     "text": [
      "The deltaG for reaction 1 is -257.22939 kJ/mol\n",
      "The deltaG for reaction 2 is -228.59433 kJ/mol\n",
      "The deltaG for reaction 3 is 86.37811 kJ/mol\n",
      "The deltaG for reaction 4 is 27.22822 kJ/mol\n",
      "The deltaG for reaction 5 is 254.93183 kJ/mol\n"
     ]
    }
   ],
   "source": [
    "#Q 1.1\n",
    "\n",
    "import numpy as np\n",
    "\n",
    "P=1     \n",
    "T=298  \n",
    "#def Gibbs()\n",
    "h=np.array([-110.53,0,-393.52,0,-241.83,-74.87,-115.9,226.73])\n",
    "s=np.array([197.66/1000,205.15/1000,213.79/1000,130.68/1000,188.84/1000,186.25/1000,218.95/1000,200.93/1000]) \n",
    "\n",
    "alpha=[[-1,-0.5,1,0,0,0,0,0],\n",
    "      [0,-0.5,0,-1,1,0,0,0],\n",
    "      [-1,0.5,0,-2,0,1,0,0],\n",
    "      [-1,0,0,-1,0,0,1,0],\n",
    "       [-2,0.5,0,-2,1,0,0,1]]\n",
    "i=0\n",
    "while(1):\n",
    "    G=np.dot(h,alpha[i]) - T*np.dot(s,alpha[i])\n",
    "    print('The deltaG for reaction',i+1,\"is\",G,\"kJ/mol\")\n",
    "    i+=1\n",
    "    if i == 5:\n",
    "        break\n"
   ]
  },
  {
   "cell_type": "code",
   "execution_count": 2,
   "metadata": {},
   "outputs": [
    {
     "name": "stdout",
     "output_type": "stream",
     "text": [
      "For 298 (Standard):\n",
      "The dG (reaction) for reaction  1 is -256.348430107\n",
      "The dG (reaction) for reaction  2 is -229.412847608\n",
      "The dG (reaction) for reaction  3 is 83.4864293485\n",
      "The dG (reaction) for reaction  4 is 25.2836975661\n",
      "The dG (reaction) for reaction  5 is 256.680036615\n",
      "\n",
      "For 1000 K:\n",
      "The dG (reaction) for reaction  1 is -195.353468667\n",
      "The dG (reaction) for reaction  2 is -192.8477865\n",
      "The dG (reaction) for reaction  3 is 218.92067075\n",
      "The dG (reaction) for reaction  4 is 111.627382667\n",
      "The dG (reaction) for reaction  5 is 378.096350417\n"
     ]
    }
   ],
   "source": [
    "#Q1.2\n",
    "\n",
    "import numpy as np\n",
    "\n",
    "Hf0=[-110.53,0,-393.52,0,-241.83,-74.87,-115.9,226.73]\n",
    "\n",
    "\n",
    "shom=[[25.56759, 31.32234, 24.99735, 33.066178, 30.09200, -0.703029, 5.193767, 40.68697],       \n",
    "    [6.096130, -20.23531, 55.18696, -11.363417, 6.832514, 108.4773, 93.23249, 40.73279],      \n",
    "    [4.054656, 57.86644, -33.69137, 11.432816, 6.793435, -42.52157, -44.85457, -16.17840],     \n",
    "    [-2.671301, -36.50624, 7.948387, -2.772874, -2.534480, 5.862788, 7.882279, 3.669741],      \n",
    "    [0.131021, -0.007374, -0.136638, -0.158558, 0.082139, 0.678565, 0.551175, -0.658411],     \n",
    "    [-118.0089, -8.903471, -403.6075, -9.980797, -250.8810, -76.84376, -119.3591, 210.7067],  \n",
    "    [227.3665, 246.7945, 228.2431, 172.707974, 223.3967, 158.7163, 202.4663, 235.0052],        \n",
    "    [-110.5271, 0.0, -393.5224, 0.0, -241.8264, -74.87310, -115.8972, 226.7314]]            \n",
    "shomate=np.transpose(np.array(shom))\n",
    "\n",
    "\n",
    "T = 298/1000\n",
    "h = np.array([T,  T**2 / 2.0, T**3 / 3.0, T**4 / 4.0, -1.0 / T, 1.0, 0.0, -1.0])\n",
    "s = np.array([np.log(T), T,  T**2 / 2.0,  T**3 / 3.0, 1.0 / (2.0 * T**2), 0.0, 1.0, 0.0])\n",
    "\n",
    "H = np.dot(shomate, h)        \n",
    "S = np.dot(shomate, s) \n",
    "Gjo = Hf0 + H - T * S      \n",
    "print(\"For 298 (Standard):\")\n",
    "\n",
    "i=0\n",
    "for i in range (0,5):\n",
    "    print(\"The dG (reaction) for reaction \",i+1,\"is\",np.dot(alpha[i],Gjo))\n",
    "\n",
    "print(\"\")\n",
    "\n",
    "T = 1\n",
    "h = np.array([T,  T**2 / 2.0, T**3 / 3.0, T**4 / 4.0, -1.0 / T, 1.0, 0.0, -1.0])\n",
    "s = np.array([np.log(T), T,  T**2 / 2.0,  T**3 / 3.0, 1.0 / (2.0 * T**2), 0.0, 1.0, 0.0])\n",
    "\n",
    "H = np.dot(shomate, h)        \n",
    "S = np.dot(shomate, s) \n",
    "Gjo = Hf0 + H - T * S      \n",
    "print(\"For 1000 K:\")\n",
    "i=0\n",
    "for i in range (0,5):\n",
    "    print(\"The dG (reaction) for reaction \",i+1,\"is\",np.dot(alpha[i],Gjo))"
   ]
  },
  {
   "cell_type": "code",
   "execution_count": 3,
   "metadata": {},
   "outputs": [
    {
     "name": "stdout",
     "output_type": "stream",
     "text": [
      "The dG (reaction) for reaction  1 is 2.45896065889e+13\n",
      "The dG (reaction) for reaction  2 is 963230685977.0\n",
      "The dG (reaction) for reaction  3 is 4.35470675569e-05\n",
      "The dG (reaction) for reaction  4 is 0.0477823450684\n",
      "The dG (reaction) for reaction  5 is 3.90774708096e-14\n"
     ]
    }
   ],
   "source": [
    "#Q1.3\n",
    "\n",
    "import numpy as np\n",
    "\n",
    "Hf0=[-110.53,0,-393.52,0,-241.83,-74.87,-115.9,226.73]\n",
    "\n",
    "\n",
    "shom=[[25.56759, 31.32234, 24.99735, 33.066178, 30.09200, -0.703029, 5.193767, 40.68697],       \n",
    "    [6.096130, -20.23531, 55.18696, -11.363417, 6.832514, 108.4773, 93.23249, 40.73279],      \n",
    "    [4.054656, 57.86644, -33.69137, 11.432816, 6.793435, -42.52157, -44.85457, -16.17840],     \n",
    "    [-2.671301, -36.50624, 7.948387, -2.772874, -2.534480, 5.862788, 7.882279, 3.669741],      \n",
    "    [0.131021, -0.007374, -0.136638, -0.158558, 0.082139, 0.678565, 0.551175, -0.658411],     \n",
    "    [-118.0089, -8.903471, -403.6075, -9.980797, -250.8810, -76.84376, -119.3591, 210.7067],  \n",
    "    [227.3665, 246.7945, 228.2431, 172.707974, 223.3967, 158.7163, 202.4663, 235.0052],        \n",
    "    [-110.5271, 0.0, -393.5224, 0.0, -241.8264, -74.87310, -115.8972, 226.7314]]            \n",
    "\n",
    "shomate=np.transpose(np.array(shom))\n",
    "\n",
    "\n",
    "T = 298/1000\n",
    "h = np.array([T,  T**2 / 2.0, T**3 / 3.0, T**4 / 4.0, -1.0 / T, 1.0, 0.0, -1.0])\n",
    "s = np.array([np.log(T), T,  T**2 / 2.0,  T**3 / 3.0, 1.0 / (2.0 * T**2), 0.0, 1.0, 0.0])\n",
    "\n",
    "H = np.dot(shomate, h)        \n",
    "S = np.dot(shomate, s) \n",
    "Gjo = Hf0 + H - T * S      \n",
    "\n",
    "i=0\n",
    "for i in range (0,5):\n",
    "    print(\"The dG (reaction) for reaction \",i+1,\"is\",np.exp(-np.dot(alpha[i],Gjo)/(8.314)))"
   ]
  },
  {
   "cell_type": "markdown",
   "metadata": {},
   "source": [
    "KT:  Your $\\Delta G_0$ was calculated with $T=298\\: K$, not $T=1000\\: K$\n",
    "\n",
    "-0.6 points (1.4/2.0)"
   ]
  },
  {
   "cell_type": "markdown",
   "metadata": {},
   "source": [
    "#Q1.5\n",
    "As we can see from part 3, the dG values for reactions 1 and 2 are negative while the other 3 are positive. A negative dG value indicates spontaneity. Hence, reactions 1 and 2 are spontaneous at the given conditions."
   ]
  },
  {
   "cell_type": "code",
   "execution_count": null,
   "metadata": {
    "collapsed": true
   },
   "outputs": [],
   "source": []
  },
  {
   "cell_type": "code",
   "execution_count": 4,
   "metadata": {},
   "outputs": [
    {
     "name": "stdout",
     "output_type": "stream",
     "text": [
      "K for reaction 0 is 3.32939456084\n",
      "K for reaction 1 is 6.0750226089\n",
      "K for reaction 2 is 0.786188970646\n"
     ]
    }
   ],
   "source": [
    "#q2.1\n",
    "import numpy as np\n",
    "\n",
    "G=[-10,-15,2]\n",
    "R=8.314/1000\n",
    "T=1000\n",
    "\n",
    "for i in range (0,3):\n",
    "    print('K for reaction',i,\"is\", np.exp(-G[i]/(R*T)))\n"
   ]
  },
  {
   "cell_type": "code",
   "execution_count": 5,
   "metadata": {},
   "outputs": [
    {
     "name": "stdout",
     "output_type": "stream",
     "text": [
      "The mole fractions of A,B,C,D,E  are:\n",
      " [0.20540336088757291, 0.17724638892285999, 0.12121328106048722, 0.36127486781613377, 0.13486210131294607] \n",
      " respectively\n"
     ]
    }
   ],
   "source": [
    "#Q2.2\n",
    "\n",
    "import numpy as np\n",
    "from scipy.optimize import fsolve\n",
    "\n",
    "y0=0.2*np.ones(5)\n",
    "G=[-10,-15,2]                \n",
    "T=1000              \n",
    "\n",
    "def f1(E):\n",
    "    ya=(y0[0]-E[0])/(1-E[0]-E[2])\n",
    "    yb=(y0[1]-E[0]-E[1]-E[2])/(1-E[0]-E[2])\n",
    "    yc=(y0[2]+E[0]-E[1])/(1-E[0]-E[2])\n",
    "    yd=(y0[3]+(2*E[1])-(2*E[2]))/(1-E[0]-E[2])\n",
    "    ye=(y0[4]+(2*E[2]))/(1-E[0]-E[2])\n",
    "    Y=[ya,yb,yc,yd,ye]\n",
    "    return Y\n",
    "\n",
    "def f2(E):\n",
    "    X=np.ones(3)\n",
    "    X[0]=np.exp(-G[0]/(R*T))-((f1(E)[2])/(f1(E)[0]*f1(E)[1]))\n",
    "    X[1]=np.exp(-G[1]/(R*T))-(((f1(E)[3])**2)/(f1(E)[1]*f1(E)[2]))\n",
    "    X[2]=np.exp(-G[2]/(R*T))-(((f1(E)[4])**2)/(f1(E)[1]*((f1(E)[3])**2)))\n",
    "    return X\n",
    "\n",
    "a=0.01*np.ones(3)\n",
    "\n",
    "#print (a)\n",
    "ans=fsolve(f2,a)\n",
    "print('The mole fractions of A,B,C,D,E  are:\\n',f1(ans),\"\\n respectively\")"
   ]
  },
  {
   "cell_type": "markdown",
   "metadata": {},
   "source": [
    "#### Plot the equilibrium extent of each reaction as a function of temperature from 800 K to 1000 K"
   ]
  },
  {
   "cell_type": "code",
   "execution_count": 6,
   "metadata": {},
   "outputs": [
    {
     "data": {
      "image/png": "[encoded data removed]",
      "text/plain": [
       "<matplotlib.figure.Figure at 0x7fbbbe813ac8>"
      ]
     },
     "metadata": {},
     "output_type": "display_data"
    }
   ],
   "source": [
    "import numpy as np\n",
    "import matplotlib.pyplot as plt\n",
    "\n",
    "P=1\n",
    "G=[-10,-15,2]\n",
    "R=8.314/1000\n",
    "\n",
    "A=[]\n",
    "B=[]\n",
    "C=[]\n",
    "\n",
    "for T in range(800,1000):\n",
    "\n",
    "    def f1(E):\n",
    "        ya=(y0[0]-E[0])/(1-E[0]-E[2])\n",
    "        yb=(y0[1]-E[0]-E[1]-E[2])/(1-E[0]-E[2])\n",
    "        yc=(y0[2]+E[0]-E[1])/(1-E[0]-E[2])\n",
    "        yd=(y0[3]+(2*E[1])-(2*E[2]))/(1-E[0]-E[2])\n",
    "        ye=(y0[4]+(2*E[2]))/(1-E[0]-E[2])\n",
    "        Y=[ya,yb,yc,yd,ye]\n",
    "        return Y\n",
    "\n",
    "    def f2(E):\n",
    "        X=np.ones(3)\n",
    "        X[0]=np.exp(-G[0]/(R*T))-((f1(E)[2]*P)/(f1(E)[0]*P*f1(E)[1]*P))\n",
    "        X[1]=np.exp(-G[1]/(R*T))-(((f1(E)[3]*P)**2)/(f1(E)[1]*P*f1(E)[2]*P))\n",
    "        X[2]=np.exp(-G[2]/(R*T))-(((f1(E)[4]*P)**2)/(f1(E)[1]*P*((f1(E)[3]*P)**2)))\n",
    "        return X\n",
    "    \n",
    "    a=0.01*np.ones(3)\n",
    "\n",
    "    ans=fsolve(f2,a)\n",
    "    A.append(ans[0])\n",
    "    B.append(ans[1])\n",
    "    C.append(ans[2])\n",
    "    \n",
    "T=np.linspace(800,1000,200)\n",
    "plt.plot(T,A,T,B,T,C)\n",
    "\n",
    "plt.xlabel('Temp (K)')\n",
    "plt.ylabel('Extent')\n",
    "plt.title('Extent versus Temp')\n",
    "\n",
    "plt.legend(['Rxn1','Rxn2','Rxn3'])\n",
    "plt.show()\n"
   ]
  }
 ],
 "metadata": {
  "kernelspec": {
   "display_name": "Python 3",
   "language": "python",
   "name": "python3"
  },
  "language_info": {
   "codemirror_mode": {
    "name": "ipython",
    "version": 3
   },
   "file_extension": ".py",
   "mimetype": "text/x-python",
   "name": "python",
   "nbconvert_exporter": "python",
   "pygments_lexer": "ipython3",
   "version": "3.6.2"
  },
  "toc": {
   "colors": {
    "hover_highlight": "#DAA520",
    "navigate_num": "#000000",
    "navigate_text": "#333333",
    "running_highlight": "#FF0000",
    "selected_highlight": "#FFD700",
    "sidebar_border": "#EEEEEE",
    "wrapper_background": "#FFFFFF"
   },
   "moveMenuLeft": true,
   "nav_menu": {
    "height": "29px",
    "width": "252px"
   },
   "navigate_menu": true,
   "number_sections": true,
   "sideBar": true,
   "threshold": 4,
   "toc_cell": false,
   "toc_section_display": "block",
   "toc_window_display": false,
   "widenNotebook": false
  }
 },
 "nbformat": 4,
 "nbformat_minor": 2
}
