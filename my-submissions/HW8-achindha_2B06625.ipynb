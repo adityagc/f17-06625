{
 "cells": [
  {
   "cell_type": "markdown",
   "metadata": {},
   "source": [
    "$$\\require{mhchem}$$       "
   ]
  },
  {
   "cell_type": "markdown",
   "metadata": {},
   "source": [
    "# Treating catalyst deactivation"
   ]
  },
  {
   "cell_type": "markdown",
   "metadata": {},
   "source": [
    "We are interested in catalytic cracking of oil to various products:\n",
    "\\begin{align}\n",
    "\\ce{Gas/oil(A)&->[k_A]Products}\n",
    "\\end{align}\n",
    "The rate law is $r_A=k_AC_A^2$. Gas oil (A) is fed at a rate of 30 mol/min and a concentration\n",
    "of 0.075 mol/dm$^3$. You can neglect pressure or volumetric flow rate changes along the reactor.\n",
    "The catalyst is not allowed to leave the reactor. "
   ]
  },
  {
   "cell_type": "markdown",
   "metadata": {},
   "source": [
    "#### The reactor is a 100 L CSTR with 22 kg of catalyst. Calculate the steady-state concentration of A and the steady-state concentration of P. The reaction rate constant $k_A = 600\\: dm^6/(kg_{cat}\\cdot mol\\cdot min)$ at 500 K; assume the reactor is held at 500 K."
   ]
  },
  {
   "cell_type": "code",
   "execution_count": 1,
   "metadata": {},
   "outputs": [
    {
     "name": "stdout",
     "output_type": "stream",
     "text": [
      "Ca goes down to  0.0348714364219 mol/l while Cp rises upto  0.0401285635781\n",
      "Conversion is: 0.535047514375\n"
     ]
    }
   ],
   "source": [
    "import numpy as np\n",
    "from scipy.optimize import fsolve\n",
    "V = 100 #l\n",
    "M = 22 #kg\n",
    "ka = 600 #dm^6/(kg.mol.min)\n",
    "T = 500 #K\n",
    "Fain = 30 #mol/min\n",
    "Cain = 0.075 #mol/dm^3\n",
    "Cin = [Cain,0]\n",
    "v0 = Fain / Cain\n",
    "tau = V/v0\n",
    "#Steady state CSTR\n",
    "\n",
    "def CSTR (C):\n",
    "    #dFdt = Fain - Faout + Fgen\n",
    "    Ca,Cp = C\n",
    "    r1 = ka * Ca * Ca * M #mol/(min)\n",
    "    ra = -r1\n",
    "    rp = r1\n",
    "    \n",
    "    dCadt = Cain/tau - Ca/tau + ra/V\n",
    "    dCpdt = 0 - Cp/tau + rp/V\n",
    "    \n",
    "    dCdt=[dCadt,dCpdt]\n",
    "    \n",
    "    return dCdt\n",
    "\n",
    "ans=fsolve(CSTR,Cin)\n",
    "print (\"Ca goes down to \",ans[0],\"mol/l while Cp rises upto \",ans[1])    \n",
    "    \n",
    "X = (Cain - ans[0])/Cain\n",
    "print (\"Conversion is:\",X)\n",
    "#10"
   ]
  },
  {
   "cell_type": "markdown",
   "metadata": {},
   "source": [
    "#### We know that the catalyst activity decreases over time due to deactivation so we need to model this as a transient CSTR  starting with A at 0.075 mol/dm$^3$ an P at 0.010 mol/dm$^3$. The reaction rate decays as $k_A=k_A^0 \\exp(- k_D t)$ where $k_D=0.72$/min, $t$ is time, and $k_A^0$ is the rate constant at 500 K (above). Calculate the concentration profile of A and the products P for the first 20 min."
   ]
  },
  {
   "cell_type": "code",
   "execution_count": 2,
   "metadata": {},
   "outputs": [
    {
     "data": {
      "image/png": "[encoded data removed]",
      "text/plain": [
       "<matplotlib.figure.Figure at 0x7f444e67f5c0>"
      ]
     },
     "metadata": {},
     "output_type": "display_data"
    }
   ],
   "source": [
    "import numpy as np\n",
    "from scipy.integrate import odeint\n",
    "V = 100 #l\n",
    "M = 22 #kg\n",
    "ka0 = 600 #dm^6/(kg.mol.min)\n",
    "kd = 0.72 #min^-1\n",
    "T = 500 #K\n",
    "Fain = 30 #mol/min\n",
    "Cain = 0.075 #mol/dm^3\n",
    "Cin = [Cain,0]\n",
    "v0 = Fain / Cain\n",
    "tau = V/v0\n",
    "\n",
    "\n",
    "Ca0 = 0.075 #mol/dm^3\n",
    "Cp0 = 0.01 #mol/dm3\n",
    "C0 = [Ca0,Cp0]\n",
    "duration = 20 #min\n",
    "tspan = np.linspace(0,20)\n",
    "\n",
    "#Transient CSTR\n",
    "\n",
    "def CSTR_transient (C,t):\n",
    "    #dFdt = Fain - Faout + Fgen\n",
    "    Ca,Cp = C\n",
    "    ka = ka0 * np.exp(-kd*t)\n",
    "    r1 = ka * Ca*Ca * M #mol/(min)\n",
    "    ra = -r1\n",
    "    rp = r1\n",
    "    \n",
    "    dCadt = Cain/tau - Ca/tau + ra/V\n",
    "    dCpdt = 0 - Cp/tau + rp/V\n",
    "    \n",
    "    dCdt=[dCadt,dCpdt]\n",
    "    \n",
    "    return dCdt\n",
    "\n",
    "ans=odeint(CSTR_transient,C0,tspan)\n",
    "\n",
    "import matplotlib.pyplot as plt\n",
    "plt.plot(tspan,ans[:,0],tspan,ans[:,1])\n",
    "\n",
    "plt.title(\"Conc A vs Conc P\")\n",
    "plt.legend([\"Conc A\", \"Conc P\"])\n",
    "plt.xlabel(\"time (minutes)\")\n",
    "plt.ylabel(\"Conc (mol/l)\")\n",
    "plt.show()\n",
    "#10"
   ]
  },
  {
   "cell_type": "markdown",
   "metadata": {},
   "source": [
    "#### You plan to combat the effects of the catalyst decay by increasing the temperature over time.  The activation energy for the reaction is 10 kJ/mol.  Calculate and plot the transient temperature profile necessary to maintain the reactor conversion at the steady state value. The maximum safe temperature for the reactor and process is 1000 K. How long can you maintain this process before violating safety temperature limits and having to recharge the catalyst?"
   ]
  },
  {
   "cell_type": "code",
   "execution_count": 3,
   "metadata": {},
   "outputs": [
    {
     "name": "stderr",
     "output_type": "stream",
     "text": [
      "/opt/conda/lib/python3.6/site-packages/scipy/optimize/minpack.py:161: RuntimeWarning: The number of calls to function has reached maxfev = 400.\n",
      "  warnings.warn(msg, RuntimeWarning)\n"
     ]
    },
    {
     "data": {
      "image/png": "[encoded data removed]",
      "text/plain": [
       "<matplotlib.figure.Figure at 0x7f44494ffe48>"
      ]
     },
     "metadata": {},
     "output_type": "display_data"
    }
   ],
   "source": [
    "import numpy as np\n",
    "from scipy.integrate import odeint\n",
    "V = 100 #l\n",
    "M = 22 #kg\n",
    "ka0 = 600 #dm^6/(kg.mol.min)\n",
    "T0 = 500 #K\n",
    "#Transient CSTR\n",
    "Ea = 10000  #J/mol\n",
    "R = 8.314\n",
    "\n",
    "def k(k0):\n",
    "    return ka0-k0*np.exp(-Ea/R/T)\n",
    "k0=fsolve(k,100)\n",
    "\n",
    "Fain = 30 #mol/min\n",
    "Cain = 0.075 #mol/dm^3\n",
    "Cin = [Cain,0]\n",
    "v0 = Fain / Cain\n",
    "tau = V/v0\n",
    "t=1\n",
    "\n",
    "Ca0 = 0.075 #mol/dm^3\n",
    "Cp0 = 0.01 #mol/dm3\n",
    "C0 = [Ca0,Cp0]\n",
    "\n",
    "\n",
    "\n",
    "\n",
    "Tspan=[]\n",
    "tspan=np.linspace(0,20)\n",
    "t=[]\n",
    "for i,time in enumerate(tspan): \n",
    "    def cstr (T):\n",
    "        return k0*np.exp(-kd*time)*np.exp(-Ea/R/T)/ka0\n",
    "    #print(i)\n",
    "    Temp=fsolve(cstr,100)    \n",
    "    if (T>1000):\n",
    "        break\n",
    "    t.append(time)   \n",
    "    Tspan.append(Temp)    \n",
    "    \n",
    "plt.plot(t,Tspan)\n",
    "plt.xlabel('time (minutes)')\n",
    "plt.ylabel('Temp (K)')\n",
    "plt.show()\n",
    "\n",
    "#check solution 5"
   ]
  },
  {
   "cell_type": "markdown",
   "metadata": {},
   "source": [
    "#### You suggest moving to a moving, packed bed reactor configuration, where the catalyst moves along the reactor length co-currently with the reactants, but at a specified flow rate $U_s$ of $10\\:kg/min$.  The packed bed reactor still contains 22 kg of catalyst at all times. You can model this as a normal packed bed reactor, with the rate constant for the catalyst at a specific point in the reactor calculated from its residence time, $\\tau$:  $k_A=k_A^0\\exp(-k_D\\tau)$. This residence time can be calculated as a function of the total mass of catalyst that the reactants have seen, $W$:  $\\tau(W)=W/U_s$. Plot the molar flowrate of species A and P as a function of $W$. Assume that we will use a constant reactor temperature of 500 K."
   ]
  },
  {
   "cell_type": "code",
   "execution_count": 4,
   "metadata": {},
   "outputs": [
    {
     "data": {
      "image/png": "[encoded data removed]",
      "text/plain": [
       "<matplotlib.figure.Figure at 0x7f444946b898>"
      ]
     },
     "metadata": {},
     "output_type": "display_data"
    }
   ],
   "source": [
    "\n",
    "Us = 10 #kg/min\n",
    "M = 22 #kg\n",
    "Fa0= 30\n",
    "Ca0 = 0.075\n",
    "Fp0 = 0\n",
    "F0 = [Fa0,Fp0]\n",
    "\n",
    "v0 = Fa0/Ca0\n",
    "kd = 0.72 #min^-1\n",
    "Wspan = np.linspace(0,22)\n",
    "def movingPBR (F,W):\n",
    "    Fa,Fp = F\n",
    "    tau = W/Us\n",
    "    ka = ka0 * np.exp(-kd*tau)\n",
    "    Ca = Fa/v0\n",
    "    Cp = Fp/v0\n",
    "    r1 = ka * Ca*Ca\n",
    "    ra = -r1\n",
    "    rp = r1\n",
    "    dFadt = ra\n",
    "    dFpdt = rp\n",
    "    dFdt = [dFadt,dFpdt]\n",
    "    return dFdt\n",
    "from scipy.integrate import odeint\n",
    "ans = odeint(movingPBR,F0,Wspan)\n",
    "import matplotlib.pyplot as plt\n",
    "\n",
    "plt.plot(Wspan,ans[:,0],Wspan,ans[:,1])\n",
    "\n",
    "plt.xlabel(\"Weight of catalyst in Kg\")\n",
    "plt.ylabel(\"F in mol/min\")\n",
    "plt.legend([\"A\",\"P\"])\n",
    "plt.title(\"Graph of Flowrate vs catalyst weight\")\n",
    "plt.show()\n",
    "\n",
    "#10"
   ]
  },
  {
   "cell_type": "markdown",
   "metadata": {},
   "source": [
    "#### With your new reactor configuration, find the optimal reactant flow rate $v_0$ and catalyst feed rate $U_s$ to maximize profit, and report this profit. Assume you're going to sell all product you make.\n",
    "Useful information:\n",
    "- It costs $\\$25,000/hr$ to operate the moving bed reactor.\n",
    "- The gas/oil feed costs \\$50/mol.\n",
    "- Bulk catalyst material costs \\$150/kg.\n",
    "- The products sell for \\$200/mol (on an equivalent basis per mol of gas/oil).\n",
    "\n",
    "Tip: it can help to plot profit as a function of Us and v0 using plt.contour to help identify what is reasonable, just as we did in the bonus for HW5."
   ]
  },
  {
   "cell_type": "code",
   "execution_count": 5,
   "metadata": {
    "scrolled": true
   },
   "outputs": [
    {
     "name": "stdout",
     "output_type": "stream",
     "text": [
      "The maximum profit occurs when flowrate is 411.213775336 and Us is  10.0019446716\n",
      "This is the local maxima\n"
     ]
    }
   ],
   "source": [
    "from scipy.integrate import odeint\n",
    "from scipy.optimize import fmin\n",
    "\n",
    "Us = 10 #kg/min\n",
    "M = 22 #kg\n",
    "Ca0 = 0.075\n",
    "kd = 0.72 #min^-1\n",
    "Wspan = np.linspace(0,22)\n",
    "def movingPBR (F,W):\n",
    "    Fa,Fp = F\n",
    "    tau = W/Us\n",
    "    ka = ka0 * np.exp(-kd*tau)\n",
    "    Ca = Fa/v0\n",
    "    Cp = Fp/v0\n",
    "    r1 = ka * Ca*Ca\n",
    "    ra = -r1\n",
    "    rp = r1\n",
    "    dFadt = ra\n",
    "    dFpdt = rp\n",
    "    dFdt = [dFadt,dFpdt]\n",
    "    return dFdt\n",
    "\n",
    "y=[v0,Us]\n",
    "def loss(y):\n",
    "    v0,Us = y\n",
    "    Fa0=v0*Ca0\n",
    "    F0=[Fa0,0]\n",
    "    ans = odeint(movingPBR,F0,Wspan)\n",
    "    Fpout = ans[-1,1]\n",
    "    l= -(200 * Fpout - 150*Us - 50*Fa0 - 25000/60)\n",
    "    return [l,l]\n",
    "guess=[400,10]\n",
    "ans=fsolve(loss,guess)\n",
    "\n",
    "print(\"The maximum profit occurs when flowrate is\",ans[0],\"and Us is \",ans[1])\n",
    "print(\"This is the local maxima\")\n",
    "\n",
    "#what is the profit? 7"
   ]
  },
  {
   "cell_type": "markdown",
   "metadata": {},
   "source": [
    "#### You complain to your catalyst vendor about how fast the catalyst deactivates, and they suggest you try their new SuperPremium+++ catalyst. It costs \\$250/kg but is more resilient and has an improved deactivation rate constant of $k_D=0.3$/min. Will this change be worth it? Decide by calculating the expected profit with this new catalyst."
   ]
  },
  {
   "cell_type": "code",
   "execution_count": 6,
   "metadata": {},
   "outputs": [
    {
     "name": "stdout",
     "output_type": "stream",
     "text": [
      "The maximum profit occurs when flowrate is 399.999999806 and Us is  7.79789821641\n",
      "This is the local maxima\n",
      "As the new Us is less than previous one, we'd need less catalyst to achieve same conversion. Hence it is advisable to change to new catalyst\n"
     ]
    }
   ],
   "source": [
    "from scipy.integrate import odeint\n",
    "from scipy.optimize import fmin\n",
    "\n",
    "Us = 10 #kg/min\n",
    "M = 22 #kg\n",
    "Ca0 = 0.075\n",
    "kd = 0.3 #min^-1\n",
    "Wspan = np.linspace(0,22)\n",
    "def movingPBR (F,W):\n",
    "    Fa,Fp = F\n",
    "    tau = W/Us\n",
    "    ka = ka0 * np.exp(-kd*tau)\n",
    "    Ca = Fa/v0\n",
    "    Cp = Fp/v0\n",
    "    r1 = ka * Ca*Ca\n",
    "    ra = -r1\n",
    "    rp = r1\n",
    "    dFadt = ra\n",
    "    dFpdt = rp\n",
    "    dFdt = [dFadt,dFpdt]\n",
    "    return dFdt\n",
    "\n",
    "y=[v0,Us]\n",
    "def loss(y):\n",
    "    v0,Us = y\n",
    "    Fa0=v0*Ca0\n",
    "    F0=[Fa0,0]\n",
    "    ans = odeint(movingPBR,F0,Wspan)\n",
    "    Fpout = ans[-1,1]\n",
    "    l= -(200 * Fpout - 250*Us - 50*Fa0 - 25000/60)\n",
    "    return [l,l]\n",
    "guess=[400,10]\n",
    "ans=fsolve(loss,guess)\n",
    "\n",
    "print(\"The maximum profit occurs when flowrate is\",ans[0],\"and Us is \",ans[1])\n",
    "print(\"This is the local maxima\")\n",
    "\n",
    "print(\"As the new Us is less than previous one, we'd need less catalyst to achieve same conversion. Hence it is advisable to change to new catalyst\")\n",
    "\n",
    "#what is profi? 7"
   ]
  },
  {
   "cell_type": "markdown",
   "metadata": {},
   "source": [
    "# Catalyst particles\n",
    "\n",
    "A first-order heterogeneous irreversible reaction is taking place within a spherical catalyst pellet that is plated with platinum throughout the pellet. The reactant concentration halfway between the external surface and the center of the pellet ($r=R/2$) is equal to one tenth the concentration of the pellet's external surface.  The concentration at the external surface is 0.001 g mol /dm^3, the diameter (2R) is $2\\times 10^{-3}$cm, and the diffusion coefficient is 0.1 $cm^2/s$.\n",
    "\\begin{align*}\n",
    "\\ce{A->B}\n",
    "\\end{align*}"
   ]
  },
  {
   "cell_type": "markdown",
   "metadata": {},
   "source": [
    "#### What is the concentration of reactant at a distance of $3\\times 10^{-4}$ cm in from the external pellet surface?"
   ]
  },
  {
   "cell_type": "code",
   "execution_count": 7,
   "metadata": {},
   "outputs": [
    {
     "name": "stdout",
     "output_type": "stream",
     "text": [
      "Conc_A is 0.000237050601526  mol/dm3 at the given distance\n"
     ]
    }
   ],
   "source": [
    "import numpy as np\n",
    "from scipy.optimize import fsolve\n",
    "De= 1e-5 #m2/s\n",
    "Cs=1 #mol/m3 \n",
    "R= 1e-5 \n",
    "a=R/3\n",
    "r=R-3e-6 #m\n",
    "\n",
    "def fun1(k0):\n",
    "    r=(R/2)/a\n",
    "    C=(Cs/10)/Cs\n",
    "    phi=(k0*a**2/De)**0.5\n",
    "    return C*r*np.sinh(3*phi)-3*np.sinh(phi*r)\n",
    "\n",
    "KNUD=fsolve(fun1,1e8)\n",
    "\n",
    "def phi(Ca):\n",
    "    Radius=(r)/a\n",
    "    C=Ca/Cs\n",
    "    phi=(KNUD*a**2/De)**0.5\n",
    "    return C*Radius*np.sinh(3*phi)-3*np.sinh(phi*Radius)\n",
    "Conc=fsolve(phi,1)\n",
    "    \n",
    "print(\"Conc_A is\",Conc[0]/1000,\" mol/dm3 at the given distance\") \n",
    "\n",
    "#10"
   ]
  },
  {
   "cell_type": "markdown",
   "metadata": {},
   "source": [
    "#### To what diameter should the pellet be reduced if the effectiveness factor is to be 0.8? "
   ]
  },
  {
   "cell_type": "code",
   "execution_count": 8,
   "metadata": {},
   "outputs": [
    {
     "name": "stdout",
     "output_type": "stream",
     "text": [
      "The required diameter is: 0.0015271709658 cm\n"
     ]
    }
   ],
   "source": [
    "import numpy as np\n",
    "from scipy.optimize import fsolve\n",
    "De= 1e-5 #m2/s\n",
    "Cs=1 #mol/m3 \n",
    "R= 1e-5 \n",
    "a=R/3\n",
    "r=R-3e-6 #m\n",
    "\n",
    "def fun1(k0):\n",
    "    r=(R/2)/a\n",
    "    C=(Cs/10)/Cs\n",
    "    phi=(k0*a**2/De)**0.5\n",
    "    return C*r*np.sinh(3*phi)-3*np.sinh(phi*r)\n",
    "\n",
    "KNUD=fsolve(fun1,1e8)\n",
    "\n",
    "def phi(Ca):\n",
    "    Radius=(r)/a\n",
    "    C=Ca/Cs\n",
    "    phi=(KNUD*a**2/De)**0.5\n",
    "    return C*Radius*np.sinh(3*phi)-3*np.sinh(phi*Radius)\n",
    "Conc=fsolve(phi,1)\n",
    "\n",
    "def effective(R):\n",
    "    a=R/3\n",
    "    r1=(r)/a\n",
    "    C=Conc/Cs\n",
    "    phi=(KNUD*a**2/De)**0.5\n",
    "    return 0.8*phi-1/np.tanh(3*phi)-1/3/phi\n",
    "\n",
    "radius=fsolve(effective,1)\n",
    "print (\"The required diameter is:\",radius[0]*2*100,\"cm\")\n",
    "\n",
    "#10"
   ]
  }
 ],
 "metadata": {
  "kernelspec": {
   "display_name": "Python 3",
   "language": "python",
   "name": "python3"
  },
  "language_info": {
   "codemirror_mode": {
    "name": "ipython",
    "version": 3
   },
   "file_extension": ".py",
   "mimetype": "text/x-python",
   "name": "python",
   "nbconvert_exporter": "python",
   "pygments_lexer": "ipython3",
   "version": "3.6.2"
  },
  "toc": {
   "colors": {
    "hover_highlight": "#DAA520",
    "navigate_num": "#000000",
    "navigate_text": "#333333",
    "running_highlight": "#FF0000",
    "selected_highlight": "#FFD700",
    "sidebar_border": "#EEEEEE",
    "wrapper_background": "#FFFFFF"
   },
   "moveMenuLeft": true,
   "nav_menu": {
    "height": "155px",
    "width": "252px"
   },
   "navigate_menu": true,
   "number_sections": true,
   "sideBar": true,
   "threshold": 4,
   "toc_cell": false,
   "toc_section_display": "block",
   "toc_window_display": false,
   "widenNotebook": false
  }
 },
 "nbformat": 4,
 "nbformat_minor": 2
}
