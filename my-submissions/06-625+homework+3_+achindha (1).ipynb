{
 "cells": [
  {
   "cell_type": "code",
   "execution_count": 1,
   "metadata": {
    "scrolled": false
   },
   "outputs": [
    {
     "name": "stdout",
     "output_type": "stream",
     "text": [
      "Requirement already up-to-date: pycse==1.6.3 in /home/nbcommon/anaconda3_431/lib/python3.6/site-packages\n",
      "Collecting quantities==0.10.1 (from pycse==1.6.3)\n",
      "Installing collected packages: quantities\n",
      "  Found existing installation: quantities 0.12.1\n",
      "    Uninstalling quantities-0.12.1:\n",
      "      Successfully uninstalled quantities-0.12.1\n",
      "Successfully installed quantities-0.10.1\n",
      "Requirement already up-to-date: uncertainties in /home/nbcommon/anaconda3_431/lib/python3.6/site-packages\n",
      "Requirement already up-to-date: quantities in /home/nbcommon/anaconda3_431/lib/python3.6/site-packages\n"
     ]
    },
    {
     "name": "stderr",
     "output_type": "stream",
     "text": [
      "Exception:\n",
      "Traceback (most recent call last):\n",
      "  File \"/home/nbuser/anaconda3_431/lib/python3.6/site-packages/pip/basecommand.py\", line 215, in main\n",
      "    status = self.run(options, args)\n",
      "  File \"/home/nbuser/anaconda3_431/lib/python3.6/site-packages/pip/commands/install.py\", line 335, in run\n",
      "    wb.build(autobuilding=True)\n",
      "  File \"/home/nbuser/anaconda3_431/lib/python3.6/site-packages/pip/wheel.py\", line 749, in build\n",
      "    self.requirement_set.prepare_files(self.finder)\n",
      "  File \"/home/nbuser/anaconda3_431/lib/python3.6/site-packages/pip/req/req_set.py\", line 380, in prepare_files\n",
      "    ignore_dependencies=self.ignore_dependencies))\n",
      "  File \"/home/nbuser/anaconda3_431/lib/python3.6/site-packages/pip/req/req_set.py\", line 666, in _prepare_file\n",
      "    check_dist_requires_python(dist)\n",
      "  File \"/home/nbuser/anaconda3_431/lib/python3.6/site-packages/pip/utils/packaging.py\", line 48, in check_dist_requires_python\n",
      "    feed_parser.feed(metadata)\n",
      "  File \"/home/nbuser/anaconda3_431/lib/python3.6/email/feedparser.py\", line 175, in feed\n",
      "    self._input.push(data)\n",
      "  File \"/home/nbuser/anaconda3_431/lib/python3.6/email/feedparser.py\", line 103, in push\n",
      "    self._partial.write(data)\n",
      "TypeError: string argument expected, got 'NoneType'\n"
     ]
    },
    {
     "data": {
      "text/plain": [
       "2"
      ]
     },
     "execution_count": 1,
     "metadata": {},
     "output_type": "execute_result"
    }
   ],
   "source": [
    "import pip\n",
    "pip.main(['install', '-U', 'pycse==1.6.3'])\n",
    "pip.main(['install', '-U', 'uncertainties'])\n",
    "pip.main(['install', '-U', 'quantities'])"
   ]
  },
  {
   "cell_type": "markdown",
   "metadata": {},
   "source": [
    "$$ r1 = 0.05[Ca]^2..( mol/(lit.min)) \\\\\n",
    "r2 = 0.022[Cb]..(mol/(lit.min))   $$"
   ]
  },
  {
   "cell_type": "code",
   "execution_count": 2,
   "metadata": {},
   "outputs": [
    {
     "data": {
      "image/png": "[encoded data removed]",
      "text/plain": [
       "<matplotlib.figure.Figure at 0x7f3fa2acad68>"
      ]
     },
     "metadata": {},
     "output_type": "display_data"
    }
   ],
   "source": [
    "#1B:\n",
    "\n",
    "import quantities as u\n",
    "import numpy as np\n",
    "from scipy.integrate import odeint\n",
    "\n",
    "k1 = 0.05 #* u.litre/(u.mol*u.minute)\n",
    "k2 = 0.022 #/ u.minute\n",
    "C0 = [1.5,0,0,0]  #mol/litre\n",
    "\n",
    "def conc (C , t):\n",
    "    Ca , Cb , Cc, Cd = C\n",
    "    r1 = k1 * (Ca)**2\n",
    "    r2 = k2 * (Cb)\n",
    "    \n",
    "    ra = dCadt = -2 * r1\n",
    "    rb = dCbdt = 2 * r1 - 1 * r2\n",
    "    rc = dCcdt = 2 * r1\n",
    "    rd = dCddt = 1 * r2\n",
    "    \n",
    "    return [dCadt, dCbdt, dCcdt, dCddt] #* u.mol/u.litre\n",
    "    \n",
    "tspan = np.linspace(0 , 180) \n",
    "\n",
    "ans = odeint(conc, C0, tspan)\n",
    "\n",
    "import matplotlib.pyplot as plt\n",
    "plt.plot(tspan, ans)\n",
    "plt.xlabel('Time (min)')\n",
    "plt.ylabel('Concentration (mol/L)')\n",
    "plt.legend(['A','B', 'C', 'D'])\n",
    "plt.show()"
   ]
  },
  {
   "cell_type": "code",
   "execution_count": 3,
   "metadata": {},
   "outputs": [
    {
     "name": "stdout",
     "output_type": "stream",
     "text": [
      "Time for max B concentration is 16.6894098375 minutes\n",
      "Concentration at tbmax is  [ 0.42815418  0.83325457  1.07184582  0.23859125]\n"
     ]
    }
   ],
   "source": [
    "#1C:\n",
    "\n",
    "import quantities as u\n",
    "import numpy as np\n",
    "from scipy.integrate import odeint\n",
    "from scipy.optimize import fsolve\n",
    "from pycse import odelay\n",
    "\n",
    "\n",
    "k1 = 0.05 #* u.litre/(u.mol*u.minute)\n",
    "k2 = 0.022 #/ u.minute\n",
    "C0 = [1.5,0,0,0]  #mol/litre\n",
    "#r1 = k1 * (Ca)**2       mol/(lit.min)\n",
    "#r2 = k2 * (Cb)          mol/(lit.min)   \n",
    "\n",
    "\n",
    "\n",
    "def conc (C , t):\n",
    "    Ca , Cb , Cc, Cd = C\n",
    "    r1 = k1 * (Ca)**2\n",
    "    r2 = k2 * (Cb)\n",
    "    \n",
    "    ra = dCadt = -2 * r1\n",
    "    rb = dCbdt = 2 * r1 - 1 * r2\n",
    "    rc = dCcdt = 2 * r1\n",
    "    rd = dCddt = 1 * r2\n",
    "    \n",
    "    return [dCadt, dCbdt, dCcdt, dCddt] #* u.mol/u.litre\n",
    "    \n",
    "tspan = np.linspace(0 , 180) \n",
    "\n",
    "def event1 (C, t):\n",
    "    #we know that rB will be zero at maxima\n",
    "    a = conc(C , t)\n",
    "    value = a[1] - 0.0\n",
    "    isterminal = True\n",
    "    direction = -1  \n",
    "    return value, isterminal, direction\n",
    "\n",
    "a, b, c, d, e = odelay(conc, C0, tspan, events=[event1])\n",
    "\n",
    "print (\"Time for max B concentration is\", a[-1], \"minutes\")\n",
    "print (\"Concentration at tbmax is \", b[-1])\n"
   ]
  },
  {
   "cell_type": "code",
   "execution_count": 4,
   "metadata": {
    "scrolled": false
   },
   "outputs": [
    {
     "name": "stdout",
     "output_type": "stream",
     "text": [
      "Stage 1:\n",
      "\n",
      "Time for max B concentration is 23.0712553608 minutes\n",
      "Concentrations of A,B,C,D are [ 0.27469072  0.34297724  0.47530928  0.13233204] respectively. \n",
      "\n",
      "Stage 2 begins here:\n",
      "\n",
      "New initial concentrations for the reaction: [ 1.02469072  0.34297724  0.47530928  0.13233204] \n",
      "\n",
      "Time for second max B concentration is 37.939216659 minutes\n",
      "Concentrations of A,B,C,D at second max B are [ 0.40605846  0.74947031  1.09394154  0.34447123] respectively. \n",
      "\n"
     ]
    },
    {
     "data": {
      "image/png": "[encoded data removed]",
      "text/plain": [
       "<matplotlib.figure.Figure at 0x7f3f7d3d8828>"
      ]
     },
     "metadata": {},
     "output_type": "display_data"
    },
    {
     "name": "stdout",
     "output_type": "stream",
     "text": [
      "Max B is higher with the 2 stage reaction\n"
     ]
    }
   ],
   "source": [
    "#1D:\n",
    "\n",
    "print (\"Stage 1:\\n\")\n",
    "\n",
    "import quantities as u\n",
    "import numpy as np\n",
    "from scipy.integrate import odeint\n",
    "from scipy.optimize import fsolve\n",
    "from pycse import odelay\n",
    "\n",
    "\n",
    "k1 = 0.05 #* u.litre/(u.mol*u.minute)\n",
    "k2 = 0.022 #/ u.minute\n",
    "C0 = [0.75,0,0,0]  #mol/litre\n",
    "#r1 = k1 * (Ca)**2       mol/(lit.min)\n",
    "#r2 = k2 * (Cb)          mol/(lit.min)   \n",
    "\n",
    "\n",
    "\n",
    "def conc (C , t):\n",
    "    Ca , Cb , Cc, Cd = C\n",
    "    r1 = k1 * (Ca)**2\n",
    "    r2 = k2 * (Cb)\n",
    "    \n",
    "    ra = dCadt = -2 * r1\n",
    "    rb = dCbdt = 2 * r1 - 1 * r2\n",
    "    rc = dCcdt = 2 * r1\n",
    "    rd = dCddt = 1 * r2\n",
    "    \n",
    "    return [dCadt, dCbdt, dCcdt, dCddt] #* u.mol/u.litre\n",
    "    \n",
    "tspan = np.linspace(0 , 180) \n",
    "\n",
    "def event1 (C, t):\n",
    "    #we know that rB will be zero at maxima\n",
    "    a = conc(C , t)\n",
    "    value = a[1] - 0.0\n",
    "    isterminal = True\n",
    "    direction = -1\n",
    "    return value, isterminal, direction\n",
    "\n",
    "a, b, c, d, e = odelay(conc, C0, tspan, events=[event1])\n",
    "tbmax=a[-1]\n",
    "print (\"Time for max B concentration is\", tbmax, \"minutes\")\n",
    "print(\"Concentrations of A,B,C,D are\", b[-1],\"respectively. \\n\")\n",
    "\n",
    "C0new = b[-1] #mol/litre\n",
    "\n",
    "print (\"Stage 2 begins here:\\n\")\n",
    "\n",
    "#dumping 75 additional moles of A in 100 lit tank\n",
    "\n",
    "C0new[0]+=0.75 #mol/litre\n",
    "print (\"New initial concentrations for the reaction:\", C0new, \"\\n\")\n",
    "\n",
    "tspannew = np.linspace( tbmax, 180)\n",
    "\n",
    "a1, b1, c1, d1, e1 = odelay(conc, C0new, tspannew, events=[event1])\n",
    "tbmax1 = a1\n",
    "\n",
    "Ctbmax1 = b1\n",
    "#print(tbmax1)\n",
    "#print (Ctbmax1)\n",
    "\n",
    "print (\"Time for second max B concentration is\", tbmax1[-1], \"minutes\")\n",
    "print(\"Concentrations of A,B,C,D at second max B are\", Ctbmax1[-1],\"respectively. \\n\")\n",
    "\n",
    "t = []\n",
    "t.extend(a)\n",
    "t.extend(a1)\n",
    "\n",
    "C = []\n",
    "C.extend(b)\n",
    "C.extend(b1)\n",
    "#print (t)\n",
    "#print (C)\n",
    "\n",
    "import matplotlib.pyplot as plt\n",
    "plt.plot(t, C)\n",
    "plt.xlabel('Time (min)')\n",
    "plt.ylabel('Concentration (mol/L)')\n",
    "plt.legend(['A','B', 'C', 'D'])\n",
    "plt.show()\n",
    "\n",
    "print (\"Max B is higher with the 2 stage reaction\")"
   ]
  },
  {
   "cell_type": "markdown",
   "metadata": {},
   "source": [
    "# Question 2"
   ]
  },
  {
   "cell_type": "markdown",
   "metadata": {},
   "source": [
    "with the rate constants \\begin{align} k_1 = 7 \\times 10^5 L/mol\\cdot hr && K_1=0.31\\ k_2 = 4 \\times 10^5 L/mol\\cdot hr && K_2=0.48\\ \\end{align}"
   ]
  },
  {
   "cell_type": "markdown",
   "metadata": {},
   "source": [
    " Notation: k forward is represented by kf and k backward is represented by kb for reactions 1 and 2\n",
    "\n",
    "$$r1(forward) = 700000[C_6H_6]^2..( mol/(lit.min)) \\\\\n",
    "r1(backward) = 2258064[C12H10][H_2]..(mol/(lit.min)) $$\n",
    "\n",
    "$$r1(net) = 700000[C_6H_6]^2 - 2258064[C12H10][H_2]..(mol/(lit.min)) $$\n",
    "\n",
    "$$r2(forward) = 400000[C_6H_6][C12H10]..( mol/(lit.min)) \\\\\n",
    "r2(backward) = 833333[C18H14][H_2]..(mol/(lit.min)) $$\n",
    "\n",
    "$$r2(net) = 400000[C_6H_6][C12H10] - 833333[C18H14][H_2]..(mol/(lit.min)) $$\n"
   ]
  },
  {
   "cell_type": "code",
   "execution_count": 5,
   "metadata": {
    "collapsed": true
   },
   "outputs": [],
   "source": [
    "\n",
    "\"\"\"Notation: k forward is represented by kf and k backward is represented by kb for reactions 1 and 2\"\"\"\n",
    "k1f=7* (10)**5 #L/mol.hr\n",
    "K1=0.31\n",
    "k1b= K1 * k1f #L/mol.hr\n",
    "\n",
    "k2f=4 * 10**5 #L/mol.hr\n",
    "K2=0.48\n",
    "k2b=K2*k2f #L/mol.hr\n",
    "\n"
   ]
  },
  {
   "cell_type": "code",
   "execution_count": 6,
   "metadata": {},
   "outputs": [
    {
     "name": "stdout",
     "output_type": "stream",
     "text": [
      "Answer 2B:\n",
      "\n",
      "The volumetric flowrate of benzene at inlet is: 5082360.0\n",
      "\n",
      "Answer 2C:\n",
      "\n"
     ]
    },
    {
     "data": {
      "image/png": "[encoded data removed]",
      "text/plain": [
       "<matplotlib.figure.Figure at 0x7f3f7f6de668>"
      ]
     },
     "metadata": {},
     "output_type": "display_data"
    },
    {
     "name": "stdout",
     "output_type": "stream",
     "text": [
      "Volume for 50% conversion is 402.758006005 lit\n"
     ]
    }
   ],
   "source": [
    "#2B:\n",
    "\n",
    "import quantities as u\n",
    "import numpy as np\n",
    "from scipy.integrate import odeint\n",
    "from scipy.optimize import fsolve\n",
    "from pycse import odelay\n",
    "\n",
    "k1f=7* (10)**5 #L/mol.hr\n",
    "K1=0.31\n",
    "k1b= k1f/K1 #L/mol.hr\n",
    "\n",
    "k2f=4 * 10**5 #L/mol.hr\n",
    "K2=0.48\n",
    "k2b=k2f/K2 #L/mol.hr\n",
    "#print(k1b, k2b)\n",
    "FB0= 60000 #*u.mol/u.hr\n",
    "T0=1033 #*u.K\n",
    "P=1 #*u.atm\n",
    "R=0.082 #*u.litre*u.atm/(u.K*u.mol) \n",
    "#assuming Z=1\n",
    "\n",
    "nu0=FB0*R*T0/P\n",
    "\n",
    "print(\"Answer 2B:\\n\")\n",
    "print(\"The volumetric flowrate of benzene at inlet is:\", nu0)\n",
    "\n",
    "#Yes, the volumetric flow rate will change due to change in molar flow rate\n",
    "\n",
    "\n",
    "#2C:\n",
    "\n",
    "F0=[60000,0,0,0]\n",
    "\n",
    "def reaction (F,V):\n",
    "    \n",
    "    FB, FD, FT, FH = F\n",
    "    Ft=sum(F)\n",
    "    nu=Ft*nu0/FB0\n",
    "    CB=FB/nu\n",
    "    CD=FD/nu\n",
    "    CT=FT/nu\n",
    "    CH=FH/nu\n",
    "    \n",
    "    r1f=k1f*CB**2\n",
    "    r1b=k1b*CD*CH\n",
    "    r2f=k2f*CB*CD\n",
    "    r2b=k2b*CT*CH\n",
    "    \n",
    "    rB=-2*r1f+2*r1b-r2f+r2b\n",
    "    rD=r1f-r1b-r2f+r2b\n",
    "    rT=r2f-r2b\n",
    "    rH=r1f-r1b+r2f-r2b\n",
    "    \n",
    "    return rB, rD,rT, rH\n",
    "vspan = np.linspace(0,1500)\n",
    "\n",
    "ans = odeint(reaction,F0, vspan)\n",
    "mf=ans/FB0\n",
    "#print(ans)\n",
    "print(\"\\nAnswer 2C:\\n\")\n",
    "import matplotlib.pyplot as plt\n",
    "plt.plot(vspan, mf)\n",
    "plt.xlabel('Vol (lit)')\n",
    "plt.ylabel('Concentration (mol/L)')\n",
    "plt.legend(['B','D', 'T', 'H'])\n",
    "plt.show()\n",
    "\n",
    "#2D:\n",
    "\n",
    "def event1(F,V):\n",
    "    value = F[0] - 30000\n",
    "    isterminal = True\n",
    "    direction = 0  \n",
    "    return value, isterminal, direction\n",
    "\n",
    "a,b,c,d,e = odelay(reaction, F0, vspan, events=[event1])\n",
    "print (\"Volume for 50% conversion is\",a[-1], \"lit\")"
   ]
  },
  {
   "cell_type": "code",
   "execution_count": 7,
   "metadata": {
    "scrolled": true
   },
   "outputs": [
    {
     "name": "stdout",
     "output_type": "stream",
     "text": [
      "[[     0.              0.        ]\n",
      " [  2714.92843416     37.02151867]\n",
      " [  4973.03983352    130.20478797]\n",
      " [  6875.04939753    259.50228708]\n",
      " [  8493.94613916    411.2818404 ]\n",
      " [  9883.99692402    576.13880449]\n",
      " [ 11086.43840453    747.52627488]\n",
      " [ 12133.19997788    920.86959633]\n",
      " [ 13049.41135858   1092.97831242]\n",
      " [ 13855.13579363   1261.64650335]\n",
      " [ 14316.87829989   1366.24340021]]\n"
     ]
    },
    {
     "data": {
      "image/png": "[encoded data removed]",
      "text/plain": [
       "<matplotlib.figure.Figure at 0x7f3f7d33fe80>"
      ]
     },
     "metadata": {},
     "output_type": "display_data"
    },
    {
     "name": "stdout",
     "output_type": "stream",
     "text": [
      "The volume required for 50% conversion is 294.9461412667717 L\n"
     ]
    }
   ],
   "source": [
    "#2E:\n",
    "    \n",
    "import quantities as u\n",
    "import numpy as np\n",
    "from scipy.integrate import odeint\n",
    "from scipy.optimize import fsolve\n",
    "from pycse import odelay\n",
    "\n",
    "k1f=7* (10)**5 #L/mol.hr\n",
    "K1=0.31\n",
    "k1b= k1f/K1 #L/mol.hr\n",
    "\n",
    "k2f=4 * 10**5 #L/mol.hr\n",
    "K2=0.48\n",
    "k2b=k2f/K2 #L/mol.hr\n",
    "\n",
    "FB0= 60000 #*u.mol/u.hr\n",
    "T0=1033 #*u.K\n",
    "P=1 #*u.atm\n",
    "R=0.082 #*u.litre*u.atm/(u.K*u.mol) \n",
    "#assuming Z=1\n",
    "\n",
    "\n",
    "stoich_coefficients = np.array([[-2,1,0,1],[-1,-1,1,1]])\n",
    "k1 = k1f\n",
    "k1r = k1b\n",
    "k2 = k2f\n",
    "k2r = k2b\n",
    "Q = nu0\n",
    "F0 = [60000,0,0,0]\n",
    "xi0 = np.array([0,0])\n",
    "def dxidV(xi, V):\n",
    "    F = F0 + np.matmul(stoich_coefficients.transpose(), xi)\n",
    "    r1 = k1*F[0]**2/Q**2 - k1r*F[1]*F[2]/Q**2\n",
    "    r2 = k2*F[0]*F[1]/Q**2 - k2r*F[2]*F[3]/Q**2\n",
    "    return [r1, r2]\n",
    "\n",
    "def event(xi, V):\n",
    "    value = FB0+(-2*xi[0]-xi[1])-FB0/2\n",
    "    isterminal = True\n",
    "    direction = 0\n",
    "    return value, isterminal, direction\n",
    "\n",
    "Vrange = np.linspace(0, 1500)\n",
    "V, xi, Ve, xie, ie = odelay(dxidV, xi0, Vrange, [event])\n",
    "print (xi)\n",
    "plt.plot(V, xi/30000)\n",
    "plt.xlabel('Reactor volume (L)')\n",
    "plt.ylabel('Mole fraction of each species')\n",
    "plt.legend(labels=['$xi_1$','$xi_2$'])\n",
    "plt.show()\n",
    "print('The volume required for 50% conversion is {} L'.format(Ve[0]))"
   ]
  }
 ],
 "metadata": {
  "kernelspec": {
   "display_name": "Python 3.6",
   "language": "python",
   "name": "python36"
  },
  "language_info": {
   "codemirror_mode": {
    "name": "ipython",
    "version": 3
   },
   "file_extension": ".py",
   "mimetype": "text/x-python",
   "name": "python",
   "nbconvert_exporter": "python",
   "pygments_lexer": "ipython3",
   "version": "3.6.0"
  }
 },
 "nbformat": 4,
 "nbformat_minor": 2
}
