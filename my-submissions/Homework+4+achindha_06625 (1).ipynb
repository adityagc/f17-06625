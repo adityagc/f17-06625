{
 "cells": [
  {
   "cell_type": "markdown",
   "metadata": {
    "toc": "true"
   },
   "source": [
    "# Table of Contents\n",
    " <p><div class=\"lev1 toc-item\"><a href=\"#Question-1\" data-toc-modified-id=\"Question-1-1\"><span class=\"toc-item-num\">1&nbsp;&nbsp;</span>Question 1</a></div><div class=\"lev1 toc-item\"><a href=\"#Part-1A:\" data-toc-modified-id=\"Part-1A:-2\"><span class=\"toc-item-num\">2&nbsp;&nbsp;</span>Part 1A:</a></div><div class=\"lev1 toc-item\"><a href=\"#Part-1B:\" data-toc-modified-id=\"Part-1B:-3\"><span class=\"toc-item-num\">3&nbsp;&nbsp;</span>Part 1B:</a></div><div class=\"lev1 toc-item\"><a href=\"#Part-1C:\" data-toc-modified-id=\"Part-1C:-4\"><span class=\"toc-item-num\">4&nbsp;&nbsp;</span>Part 1C:</a></div><div class=\"lev1 toc-item\"><a href=\"#Part-1D:\" data-toc-modified-id=\"Part-1D:-5\"><span class=\"toc-item-num\">5&nbsp;&nbsp;</span>Part 1D:</a></div><div class=\"lev1 toc-item\"><a href=\"#Part-1E\" data-toc-modified-id=\"Part-1E-6\"><span class=\"toc-item-num\">6&nbsp;&nbsp;</span>Part 1E</a></div><div class=\"lev1 toc-item\"><a href=\"#1E-Explanation:\" data-toc-modified-id=\"1E-Explanation:-7\"><span class=\"toc-item-num\">7&nbsp;&nbsp;</span>1E Explanation:</a></div><div class=\"lev1 toc-item\"><a href=\"#Question-2:\" data-toc-modified-id=\"Question-2:-8\"><span class=\"toc-item-num\">8&nbsp;&nbsp;</span>Question 2:</a></div><div class=\"lev1 toc-item\"><a href=\"#Part-2A\" data-toc-modified-id=\"Part-2A-9\"><span class=\"toc-item-num\">9&nbsp;&nbsp;</span>Part 2A</a></div><div class=\"lev1 toc-item\"><a href=\"#Part-2B\" data-toc-modified-id=\"Part-2B-10\"><span class=\"toc-item-num\">10&nbsp;&nbsp;</span>Part 2B</a></div><div class=\"lev1 toc-item\"><a href=\"#Part-2C\" data-toc-modified-id=\"Part-2C-11\"><span class=\"toc-item-num\">11&nbsp;&nbsp;</span>Part 2C</a></div>"
   ]
  },
  {
   "cell_type": "markdown",
   "metadata": {},
   "source": [
    "KT:  Look at you, Mr. Fancy Pants with your hyperlinking. +0.1 bonus because that's cool."
   ]
  },
  {
   "cell_type": "markdown",
   "metadata": {},
   "source": [
    "# Question 1"
   ]
  },
  {
   "cell_type": "markdown",
   "metadata": {},
   "source": [
    "$$\\require{mhchem}$$ "
   ]
  },
  {
   "cell_type": "markdown",
   "metadata": {},
   "source": [
    "We want to oxidize CO to $\\ce{CO2}$ with the reaction: \\begin{align} \\ce{CO + 1/2O2 -> CO2} \\end{align} The rate is assumed to follow Hougen-Watson kinetics of the form \\begin{align} r=\\frac{k C{CO}C{O2}}{1+KC_{CO}} \\end{align} with $k=9.73\\times 10^{12} \\exp^{-13,500/T}$ cm$^6$/mol$\\cdot s\\cdot(g_{catalyst})$ and $K=8.099\\times 10^6\\exp^{409/T}$ cm$^3$/mol, where $T$ is in Kelvin. The feed to the reactor is 2 mol% $\\ce{CO}$, 10 mol% $\\ce{O2}$, and the rest inert. Total inlet pressure is 6 atm, and total inlet molar flow rate is 0.1 mol/s. The reactor operates isothermally at 838 K. The catalyst packed bed can be modeled with an effective $\\alpha=0.00004$/(g catalyst)."
   ]
  },
  {
   "cell_type": "markdown",
   "metadata": {},
   "source": [
    "# Part 1A:"
   ]
  },
  {
   "cell_type": "markdown",
   "metadata": {},
   "source": [
    "Yes, the flowrate to the packed bed reactor does affect the final conversion. This is because flowrate is linked to the retention time (time spent by reactants in the reactor interacting with themselves or with the catalyst). A high flowrate would mean a lower retention time and hence a lower conversion."
   ]
  },
  {
   "cell_type": "markdown",
   "metadata": {},
   "source": [
    "# Part 1B: "
   ]
  },
  {
   "cell_type": "code",
   "execution_count": 1,
   "metadata": {},
   "outputs": [
    {
     "name": "stdout",
     "output_type": "stream",
     "text": [
      "For a flow rate Ft0 = 0.1mol/s, the inlet flowrates of A,B,C,I are: 0.0020 0.0100 0.0000 0.0880 mol/s respectively\n",
      "Volumetric flowrate at inlet is  1146.0627666666667 cm3/s\n",
      "The inlet concentrations of A,B,C,I are as follows: 0.0000017 0.0000087 0.0000000 0.0000768 mol/cm3 in that order\n"
     ]
    }
   ],
   "source": [
    "#shorthand: CO = A, O2 = B, CO2 = C, Inert = I\n",
    "\n",
    "Ft0 = 0.1 #mol / s\n",
    "Fa0 = 0.02 * Ft0 #mol / s\n",
    "Fb0 = 0.1 * Ft0 #mol / s\n",
    "Fc0 = 0\n",
    "FI0 = 0.88 * Ft0 #mol / s\n",
    "\n",
    "T = 838 #K\n",
    "Pt0 = 6 #atm\n",
    "R = 82.057 #cm3.atm/(K.mol)\n",
    "\n",
    "# PV = ZnRT\n",
    "# Cx = Fx/v\n",
    "\n",
    "Ct0 = Pt0 / ( R * T)\n",
    "v0 = Ft0 / Ct0\n",
    "\n",
    "Ca0 = Fa0 / v0\n",
    "Cb0 = Fb0 / v0\n",
    "Cc0 = Fc0 / v0\n",
    "CI0 = FI0 / v0\n",
    "\n",
    "print (\"For a flow rate Ft0 = 0.1mol/s, the inlet flowrates of A,B,C,I are:\", \"%.4f\" %Fa0,\"%.4f\" %Fb0,\"%.4f\" %Fc0,\"%.4f\" %FI0, \"mol/s respectively\")\n",
    "print (\"Volumetric flowrate at inlet is \", v0, \"cm3/s\")\n",
    "print (\"The inlet concentrations of A,B,C,I are as follows:\",\"%.7f\" %Ca0,\"%.7f\" %Cb0,\"%.7f\" %Cc0,\"%.7f\" %CI0, \"mol/cm3 in that order\")"
   ]
  },
  {
   "cell_type": "markdown",
   "metadata": {},
   "source": [
    "# Part 1C:"
   ]
  },
  {
   "cell_type": "code",
   "execution_count": 2,
   "metadata": {},
   "outputs": [
    {
     "data": {
      "image/png": "[encoded data removed]",
      "text/plain": [
       "<matplotlib.figure.Figure at 0x7fd11c546da0>"
      ]
     },
     "metadata": {},
     "output_type": "display_data"
    }
   ],
   "source": [
    "import numpy as np\n",
    "from scipy.integrate import odeint\n",
    "#shorthand: CO = A, O2 = B, CO2 = C, Inert = I\n",
    "\n",
    "Ft0 = 0.1 #mol / s\n",
    "Fa0 = 0.02 * Ft0 #mol / s\n",
    "Fb0 = 0.1 * Ft0 #mol / s\n",
    "Fc0 = 0\n",
    "FI0 = 0.88 * Ft0 #mol / s\n",
    "\n",
    "\n",
    "T = 838 #K\n",
    "Pt0 = 6 #atm\n",
    "R = 82.057 #cm3.atm/(K.mol)\n",
    "\n",
    "# PV = ZnRT\n",
    "# Cx = Fx/v\n",
    "\n",
    "Ct0 = Pt0 / ( R * T)\n",
    "v0 = Ft0 / Ct0\n",
    "\n",
    "Ca0 = Fa0 / v0\n",
    "Cb0 = Fb0 / v0\n",
    "Cc0 = Fc0 / v0\n",
    "CI0 = FI0 / v0\n",
    "\n",
    "K = 8.099 * 10**6 * np.exp(409/T) #cm3/mol\n",
    "k = 9.73 * 10**12 * np.exp(13500/-T) # cm6/(mol.s.gcatalyst)\n",
    "alpha = 0.00004 #/g(catalyst)\n",
    "\n",
    "def dfdw (F,W):\n",
    "    Fa, Fb, Fc, y = F\n",
    "    Ft = Fa + Fb + Fc + FI0\n",
    "    \n",
    "    Pt = y * Pt0\n",
    "    Pa = Fa / Ft * Pt\n",
    "    Pb = Fb / Ft * Pt\n",
    "    Pc = Fc / Ft * Pt\n",
    "    \n",
    "    Ca = Pa / (R*T)\n",
    "    Cb = Pb / (R*T)\n",
    "    Cc = Pc / (R*T)\n",
    "    \n",
    "    r = (k * Ca * Cb)/(1 + K * Ca)\n",
    "    \n",
    "    dFadW = ra = -1 * r\n",
    "    dFbdW = rb = -0.5 * r\n",
    "    dFcdW = rc = 1 * r\n",
    "    dydW = -alpha / (2 * y) * Ft / Ft0\n",
    "\n",
    "    return [dFadW, dFbdW, dFcdW, dydW]\n",
    "\n",
    "y0 = 1.0 \n",
    "F0 = [Fa0, Fb0, Fc0, y0]\n",
    "Wspan = np.linspace(0,5000)\n",
    "\n",
    "ans = odeint(dfdw, F0, Wspan)\n",
    "\n",
    "Faarr = ans[:,0]\n",
    "Fbarr = ans[:,1]\n",
    "Fcarr = ans[:,2]\n",
    "\n",
    "X = (Faarr[-1]-Fa0)/-Fa0\n",
    "#print (X)\n",
    "import matplotlib.pyplot as plt\n",
    "\n",
    "plt.plot (Wspan,Faarr,Wspan,Fbarr,Wspan,Fcarr)\n",
    "plt.legend(['CO','O2','CO2'])\n",
    "plt.xlabel('Catalyst weight in grams')\n",
    "plt.ylabel('Molar flowrate in mol/s')\n",
    "plt.show()"
   ]
  },
  {
   "cell_type": "markdown",
   "metadata": {},
   "source": [
    "KT:  You forgot the pressure plot :(\n",
    "\n",
    "-1 point"
   ]
  },
  {
   "cell_type": "markdown",
   "metadata": {},
   "source": [
    "# Part 1D:"
   ]
  },
  {
   "cell_type": "markdown",
   "metadata": {},
   "source": [
    "The reactor outlet is collected in an unpressured tank at 1.0 atm. Determine the inlet pressure necessary to operate a reactor with 5 kg of catalyst such that the outlet pressure is 1 atm. (2 pt)"
   ]
  },
  {
   "cell_type": "code",
   "execution_count": 3,
   "metadata": {},
   "outputs": [
    {
     "name": "stdout",
     "output_type": "stream",
     "text": [
      "The inlet total pressure required so that output is at 1atm is: 1.07847808411\n"
     ]
    }
   ],
   "source": [
    "import numpy as np\n",
    "from scipy.integrate import odeint\n",
    "from scipy.optimize import fsolve\n",
    "#shorthand: CO = A, O2 = B, CO2 = C, Inert = I\n",
    "\n",
    "def PBR (Pt0):\n",
    "    Ft0 = 0.1 #mol / s\n",
    "    Fa0 = 0.02 * Ft0 #mol / s\n",
    "    Fb0 = 0.1 * Ft0 #mol / s\n",
    "    Fc0 = 0\n",
    "    FI0 = 0.88 * Ft0 #mol / s\n",
    "\n",
    "\n",
    "    T = 838 #K\n",
    "    R = 82.057 #cm3.atm/(K.mol)\n",
    "\n",
    "    # PV = ZnRT\n",
    "    # Cx = Fx/v\n",
    "\n",
    "    Ct0 = Pt0 / ( R * T)\n",
    "    v0 = Ft0 / Ct0\n",
    "\n",
    "    Ca0 = Fa0 / v0\n",
    "    Cb0 = Fb0 / v0\n",
    "    Cc0 = Fc0 / v0\n",
    "    CI0 = FI0 / v0\n",
    "\n",
    "    K = 8.099 * 10**6 * np.exp(409/T) #cm3/mol\n",
    "    k = 9.73 * 10**12 * np.exp(13500/-T) # cm6/(mol.s.gcatalyst)\n",
    "    alpha = 0.00004 #/g(catalyst)\n",
    "\n",
    "    def dfdw (F,W):\n",
    "        Fa, Fb, Fc, y = F\n",
    "        Ft = Fa + Fb + Fc + FI0\n",
    "\n",
    "        Pt = y * Pt0\n",
    "        Pa = Fa / Ft * Pt\n",
    "        Pb = Fb / Ft * Pt\n",
    "        Pc = Fc / Ft * Pt\n",
    "\n",
    "        Ca = Pa / (R*T)\n",
    "        Cb = Pb / (R*T)\n",
    "        Cc = Pc / (R*T)\n",
    "\n",
    "        r = (k * Ca * Cb)/(1 + K * Ca)\n",
    "\n",
    "        dFadW = ra = -1 * r\n",
    "        dFbdW = rb = -0.5 * r\n",
    "        dFcdW = rc = 1 * r\n",
    "        dydW = -alpha / (2 * y) * Ft / Ft0\n",
    "\n",
    "        return [dFadW, dFbdW, dFcdW, dydW]\n",
    "\n",
    "    y0 = 1.0 \n",
    "    F0 = [Fa0, Fb0, Fc0, y0]\n",
    "    Wspan = np.linspace(0,5000)\n",
    "\n",
    "    ans1 = odeint(dfdw, F0, Wspan)\n",
    "\n",
    "    Faarr = ans1[:,0]\n",
    "    Fbarr = ans1[:,1]\n",
    "    Fcarr = ans1[:,2]\n",
    "    \n",
    "    Faout = Faarr[-1]\n",
    "    Fbout = Faarr[-1]\n",
    "    Fcout = Faarr[-1]\n",
    "    Ftout = Faout + Fbout + Fcout + FI0\n",
    "    \n",
    "    Ptout = Ftout / Ft0 * Pt0\n",
    "    \n",
    "    return Ptout-1 #outlet pressure is 1atm\n",
    "\n",
    "Ptin = fsolve(PBR,1)\n",
    "print (\"The inlet total pressure required so that output is at 1atm is:\", Ptin[0])"
   ]
  },
  {
   "cell_type": "markdown",
   "metadata": {},
   "source": [
    "KT:  Close; the actual answer is ~1.18 atm.\n",
    "\n",
    "-0.5 points"
   ]
  },
  {
   "cell_type": "markdown",
   "metadata": {},
   "source": [
    "# Part 1E"
   ]
  },
  {
   "cell_type": "markdown",
   "metadata": {},
   "source": [
    "Before acquiring a new packed bed reactor, you realize that you already have a PBR that holds 50 kg of catalyst. Plot the molar flow rates and pressure for each species along the length of this new reactor. Discuss the behavior and describe where the model is breaking down. (3 pt)"
   ]
  },
  {
   "cell_type": "code",
   "execution_count": 10,
   "metadata": {
    "scrolled": true
   },
   "outputs": [
    {
     "name": "stderr",
     "output_type": "stream",
     "text": [
      "/opt/conda/lib/python3.6/site-packages/scipy/integrate/odepack.py:218: ODEintWarning: Excess work done on this call (perhaps wrong Dfun type). Run with full_output = 1 to get quantitative information.\n",
      "  warnings.warn(warning_msg, ODEintWarning)\n"
     ]
    },
    {
     "data": {
      "image/png": "[encoded data removed]",
      "text/plain": [
       "<matplotlib.figure.Figure at 0x7fd0f02a9400>"
      ]
     },
     "metadata": {},
     "output_type": "display_data"
    }
   ],
   "source": [
    "import numpy as np\n",
    "from scipy.integrate import odeint\n",
    "#shorthand: CO = A, O2 = B, CO2 = C, Inert = I\n",
    "\n",
    "Ft0 = 0.1 #mol / s\n",
    "Fa0 = 0.02 * Ft0 #mol / s\n",
    "Fb0 = 0.1 * Ft0 #mol / s\n",
    "Fc0 = 0\n",
    "FI0 = 0.88 * Ft0 #mol / s\n",
    "\n",
    "\n",
    "T = 838 #K\n",
    "Pt0 = 6 #atm\n",
    "R = 82.057 #cm3.atm/(K.mol)\n",
    "\n",
    "# PV = ZnRT\n",
    "# Cx = Fx/v\n",
    "\n",
    "Ct0 = Pt0 / ( R * T)\n",
    "v0 = Ft0 / Ct0\n",
    "\n",
    "Ca0 = Fa0 / v0\n",
    "Cb0 = Fb0 / v0\n",
    "Cc0 = Fc0 / v0\n",
    "CI0 = FI0 / v0\n",
    "\n",
    "K = 8.099 * 10**6 * np.exp(409/T) #cm3/mol\n",
    "k = 9.73 * 10**12 * np.exp(13500/-T) # cm6/(mol.s.gcatalyst)\n",
    "alpha = 0.00004 #/g(catalyst)\n",
    "\n",
    "def dfdw (F,W):\n",
    "    Fa, Fb, Fc, y = F\n",
    "    Ft = Fa + Fb + Fc + FI0\n",
    "    \n",
    "    Pt = y * Pt0\n",
    "    Pa = Fa / Ft * Pt\n",
    "    Pb = Fb / Ft * Pt\n",
    "    Pc = Fc / Ft * Pt\n",
    "    \n",
    "    Ca = Pa / (R*T)\n",
    "    Cb = Pb / (R*T)\n",
    "    Cc = Pc / (R*T)\n",
    "    \n",
    "    r = (k * Ca * Cb)/(1 + K * Ca)\n",
    "    \n",
    "    dFadW = ra = -1 * r\n",
    "    dFbdW = rb = -0.5 * r\n",
    "    dFcdW = rc = 1 * r\n",
    "    dydW = -alpha / (2 * y) * Ft / Ft0\n",
    "\n",
    "    return [dFadW, dFbdW, dFcdW, dydW]\n",
    "\n",
    "y0 = 1.0 \n",
    "F0 = [Fa0, Fb0, Fc0, y0]\n",
    "Wspan = np.linspace(0,50000)\n",
    "\n",
    "ans = odeint(dfdw, F0, Wspan)\n",
    "\n",
    "Faarr = ans[:,0]\n",
    "Fbarr = ans[:,1]\n",
    "Fcarr = ans[:,2]\n",
    "\n",
    "import matplotlib.pyplot as plt\n",
    "\n",
    "plt.plot (Wspan,Faarr,Wspan,Fbarr,Wspan,Fcarr)\n",
    "plt.legend(['A','B','C'])\n",
    "plt.xlabel('Catalyst weight in grams')\n",
    "plt.ylabel('Molar flowrate in mol/s')\n",
    "plt.ylim([0, 0.01])\n",
    "plt.show()"
   ]
  },
  {
   "cell_type": "markdown",
   "metadata": {},
   "source": [
    "# 1E Explanation:"
   ]
  },
  {
   "cell_type": "markdown",
   "metadata": {},
   "source": [
    "ODEINT is not a blackbox. It runs a solver known as lsoda, which is essentially an extension of the Runge Kutta algorithm for stiff and non-stiff systems. However, lsoda requires that the Jacobian be dense. In this case, we can see that the reaction reaches equillibrium at w~4000. As a result, the matrix corresponding to the set of differential equations thus generated as a part of lsoda is sparse. Evidently, the Jacobian of the matrix is sparse and hence we lsoda breaks down, giving us a runtime warning.\n",
    "\n",
    "(Ref: LSODA documentation: http://www.oecd-nea.org/tools/abstract/detail/uscd1227)"
   ]
  },
  {
   "cell_type": "markdown",
   "metadata": {},
   "source": [
    "KT:  No pressure plot\n",
    "\n",
    "-1 point"
   ]
  },
  {
   "cell_type": "markdown",
   "metadata": {},
   "source": [
    "# Question 2:"
   ]
  },
  {
   "cell_type": "markdown",
   "metadata": {},
   "source": [
    "We have a 20 L transient CSTR, with the following reactions: \\begin{align} \\ce{A&->[k_1] X}\\ \\\\ \\ce{2X + Y &->[k_2] 3 X}\\ \\\\\\ce{B + X &->[k_3] Y + D}\\ \\\\\\ce{X &->[k_4] E} \\end{align} The initial concentration for A is 1 M, B is 3 M, X and Y are 0.01 M. The initial concentration for D and E are 0 M. The rate constants are $k_1=0.1\\:s^{-1}$, $k_2=10^5 M^{-2}s^{-1}$, $k_3=10\\: M^{-1}s^{-1}$ and $k_4=10\\:s^{-1}$"
   ]
  },
  {
   "cell_type": "markdown",
   "metadata": {},
   "source": [
    "# Part 2A"
   ]
  },
  {
   "cell_type": "markdown",
   "metadata": {},
   "source": [
    "The operators report that when they load the initial batch into the reactor they observe some strange behavior, even without an inflow or outflow into the CSTR. First, calculate the concentration profiles for all of the species for the first 30 seconds after loading the CSTR, using a logarithmic y-axis. (4 pt)"
   ]
  },
  {
   "cell_type": "code",
   "execution_count": 5,
   "metadata": {},
   "outputs": [
    {
     "name": "stderr",
     "output_type": "stream",
     "text": [
      "/opt/conda/lib/python3.6/site-packages/ipykernel_launcher.py:51: RuntimeWarning: divide by zero encountered in log\n"
     ]
    },
    {
     "data": {
      "image/png": "[encoded data removed]",
      "text/plain": [
       "<matplotlib.figure.Figure at 0x7fd11c50fd68>"
      ]
     },
     "metadata": {},
     "output_type": "display_data"
    }
   ],
   "source": [
    "import numpy as np\n",
    "from scipy.integrate import odeint\n",
    "Ca0 = 1 #molar\n",
    "Cb0 = 3 #molar\n",
    "Cx0 = 0.01 #molar\n",
    "Cy0 = 0.01 #molar\n",
    "Cd0 = 0\n",
    "Ce0 = 0\n",
    "\n",
    "\n",
    "C0 = [Ca0,Cb0,Cx0,Cy0,Cd0,Ce0]\n",
    "k1 = 0.1 #s-1\n",
    "k2 = 10 ** 5 #M-2.s-1\n",
    "k3 = 10 #M-1.s-1\n",
    "k4 = 10 #s-1\n",
    "\n",
    "V = 10 #L\n",
    "\n",
    "# For initial 30 seconds with no inflow or outflow, we can assume the system to be a batch reactor\n",
    "\n",
    "def dCdt (C,t):\n",
    "    Ca,Cb,Cx,Cy,Cd,Ce = C\n",
    "    \n",
    "    r1 = k1 * Ca\n",
    "    r2 = k2 * (Cx ** 2) * Cy\n",
    "    r3 = k3 * Cb * Cx\n",
    "    r4 = k4 * Cx\n",
    "    \n",
    "    dCadt = ra = -r1\n",
    "    dCbdt = rb = -r3\n",
    "    dCxdt = rx = r1 - 2*r2 + 3*r2 - r3 - r4\n",
    "    dCydt = ry = -r2 + r3\n",
    "    dCddt = rd = r3\n",
    "    dCedt = re = r4\n",
    "    \n",
    "    return [ra,rb,rx,ry,rd,re]\n",
    "\n",
    "tspan = np.linspace(0,30)\n",
    "\n",
    "ans = odeint (dCdt,C0,tspan)\n",
    "\n",
    "Caarr = ans[:,0]\n",
    "Cbarr = ans[:,1]\n",
    "Cxarr = ans[:,2]\n",
    "Cyarr = ans[:,3]\n",
    "Cdarr = ans[:,4]\n",
    "Cearr = ans[:,5]\n",
    "\n",
    "import matplotlib.pyplot as plt\n",
    "#plt.plot(tspan,Cxarr,tspan,Cyarr)\n",
    "plt.plot(tspan,np.log(Caarr),tspan,np.log(Cbarr),tspan,np.log(Cxarr),tspan,np.log(Cyarr),tspan,np.log(Cdarr),tspan,np.log(Cearr))\n",
    "plt.legend (['A','B','X','Y','D','E'],loc=1)\n",
    "plt.xlabel('time (sec)')\n",
    "plt.ylabel('log concentration (M)')\n",
    "\n",
    "plt.show()"
   ]
  },
  {
   "cell_type": "markdown",
   "metadata": {},
   "source": [
    "# Part 2B"
   ]
  },
  {
   "cell_type": "markdown",
   "metadata": {},
   "source": [
    "You suggest that the stability of the system can be improved by using a suitably large inflow/outflow to the CSTR to force it into a stable trajectory. For an inlet stream of 50 L/s with 1 M A and 1 M B, calculate the new startup concentration profile. "
   ]
  },
  {
   "cell_type": "code",
   "execution_count": 6,
   "metadata": {},
   "outputs": [
    {
     "name": "stderr",
     "output_type": "stream",
     "text": [
      "/opt/conda/lib/python3.6/site-packages/ipykernel_launcher.py:75: RuntimeWarning: divide by zero encountered in log\n"
     ]
    },
    {
     "data": {
      "image/png": "[encoded data removed]",
      "text/plain": [
       "<matplotlib.figure.Figure at 0x7fd11c5468d0>"
      ]
     },
     "metadata": {},
     "output_type": "display_data"
    }
   ],
   "source": [
    "import numpy as np\n",
    "from scipy.integrate import odeint\n",
    "Ca0 = 1 #molar\n",
    "Cb0 = 3 #molar\n",
    "Cx0 = 0.01 #molar\n",
    "Cy0 = 0.01 #molar\n",
    "Cd0 = 0\n",
    "Ce0 = 0\n",
    "C0 = [Ca0,Cb0,Cx0,Cy0,Cd0,Ce0]\n",
    "\n",
    "v0=50 #l/s\n",
    "Cain = 1 #molar\n",
    "Cbin = 1 #molar\n",
    "\n",
    "Fain = Cain * v0\n",
    "Fbin = Cbin * v0\n",
    "Fxin = 0\n",
    "Fyin = 0\n",
    "Fdin = 0\n",
    "Fein = 0\n",
    "\n",
    "k1 = 0.1 #s-1\n",
    "k2 = 10 ** 5 #M-2.s-1\n",
    "k3 = 10 #M-1.s-1\n",
    "k4 = 10 #s-1\n",
    "\n",
    "V = 10 #L\n",
    "\n",
    "#Do we consider volumetric flowrate to be constant???\n",
    "\n",
    "def dCdt (C,t):\n",
    "    Ca,Cb,Cx,Cy,Cd,Ce = C\n",
    "    \n",
    "    r1 = k1 * Ca\n",
    "    r2 = k2 * (Cx ** 2) * Cy\n",
    "    r3 = k3 * Cb * Cx\n",
    "    r4 = k4 * Cx\n",
    "    \n",
    "    ra = -r1\n",
    "    rb = -r3\n",
    "    rx = r1 - 2*r2 + 3*r2 - r3 - r4\n",
    "    ry = -r2 + r3\n",
    "    rd = r3\n",
    "    re = r4\n",
    "    \n",
    "    Fa = v0 * Ca\n",
    "    Fb = v0 * Cb\n",
    "    Fx = v0 * Cx\n",
    "    Fy = v0 * Cy\n",
    "    Fd = v0 * Cd\n",
    "    Fe = v0 * Ce\n",
    "    \n",
    "    dcadt = Fain / V - Fa / V + ra\n",
    "    dcbdt = Fbin / V - Fb / V + rb\n",
    "    dcxdt = Fxin / V - Fx / V + rx\n",
    "    dcydt = Fyin / V - Fy / V + ry\n",
    "    dcddt = Fdin / V - Fd / V + rd\n",
    "    dcedt = Fein / V - Fe / V + re\n",
    "    \n",
    "    return [dcadt,dcbdt,dcxdt,dcydt,dcddt,dcedt,]\n",
    "\n",
    "tspan = np.linspace(0,30)\n",
    "\n",
    "ans = odeint (dCdt,C0,tspan)\n",
    "\n",
    "Caarr = ans[:,0]\n",
    "Cbarr = ans[:,1]\n",
    "Cxarr = ans[:,2]\n",
    "Cyarr = ans[:,3]\n",
    "Cdarr = ans[:,4]\n",
    "Cearr = ans[:,5]\n",
    "\n",
    "import matplotlib.pyplot as plt\n",
    "##plt.plot(tspan,Cxarr,tspan,Cyarr)\n",
    "plt.plot(tspan,np.log(Caarr),tspan,np.log(Cbarr),tspan,np.log(Cxarr),tspan,np.log(Cyarr),tspan,np.log(Cdarr),tspan,np.log(Cearr))\n",
    "plt.legend (['A','B','X','Y','D','E'],loc=1)\n",
    "plt.xlabel('time (sec)')\n",
    "plt.ylabel('log concentration (M)')\n",
    "\n",
    "plt.show()"
   ]
  },
  {
   "cell_type": "markdown",
   "metadata": {},
   "source": [
    "KT:  Seems a little off. Check the answer key.\n",
    "\n",
    "-1 point"
   ]
  },
  {
   "cell_type": "markdown",
   "metadata": {},
   "source": [
    "# Part 2C"
   ]
  },
  {
   "cell_type": "markdown",
   "metadata": {},
   "source": [
    "Simply reducing the starting concentration of B should be enough. Find a concentration of B such that X decreases monotonically during startup. (2 pt)"
   ]
  },
  {
   "cell_type": "code",
   "execution_count": 7,
   "metadata": {},
   "outputs": [
    {
     "name": "stdout",
     "output_type": "stream",
     "text": [
      "The value of initial concentration of B for which concentration of X is monotonically decreasing is: 9.30000 M\n"
     ]
    },
    {
     "name": "stderr",
     "output_type": "stream",
     "text": [
      "/opt/conda/lib/python3.6/site-packages/ipykernel_launcher.py:63: RuntimeWarning: divide by zero encountered in log\n"
     ]
    },
    {
     "data": {
      "image/png": "[encoded data removed]",
      "text/plain": [
       "<matplotlib.figure.Figure at 0x7fd0f0289da0>"
      ]
     },
     "metadata": {},
     "output_type": "display_data"
    }
   ],
   "source": [
    "# we want to find the least value of Cb0 for which \n",
    "import numpy as np\n",
    "from scipy.integrate import odeint\n",
    "\n",
    "B=3\n",
    "\n",
    "while (1):\n",
    "        \n",
    "    Ca0 = 1 #molar\n",
    "    Cb0 = B #molar\n",
    "    Cx0 = 0.01 #molar\n",
    "    Cy0 = 0.01 #molar\n",
    "    Cd0 = 0\n",
    "    Ce0 = 0\n",
    "\n",
    "\n",
    "    C0 = [Ca0,Cb0,Cx0,Cy0,Cd0,Ce0] #taking -1 as initial value for dcx/dt\n",
    "    k1 = 0.1 #s-1\n",
    "    k2 = 10 ** 5 #M-2.s-1\n",
    "    k3 = 10 #M-1.s-1\n",
    "    k4 = 10 #s-1\n",
    "\n",
    "    V = 10 #L\n",
    "\n",
    "    def dCdt (C,t):\n",
    "        Ca,Cb,Cx,Cy,Cd,Ce = C\n",
    "\n",
    "        r1 = k1 * Ca\n",
    "        r2 = k2 * (Cx ** 2) * Cy\n",
    "        r3 = k3 * Cb * Cx\n",
    "        r4 = k4 * Cx\n",
    "\n",
    "        dCadt = ra = -r1\n",
    "        dCbdt = rb = -r3\n",
    "        dCxdt = rx = r1 - 2*r2 + 3*r2 - r3 - r4\n",
    "        dCydt = ry = -r2 + r3\n",
    "        dCddt = rd = r3\n",
    "        dCedt = re = r4\n",
    "        #print (dCxdt)\n",
    "        return [ra,rb,rx,ry,rd,re]\n",
    "\n",
    "    tspan = np.linspace(0,30)\n",
    "\n",
    "    ans = odeint (dCdt,C0,tspan)\n",
    "\n",
    "    Caarr = ans[:,0]\n",
    "    Cbarr = ans[:,1]\n",
    "    Cxarr = ans[:,2]\n",
    "    Cyarr = ans[:,3]\n",
    "    Cdarr = ans[:,4]\n",
    "    Cearr = ans[:,5]\n",
    "\n",
    "    Cxdiff = np.diff(Cxarr) #discrete difference between elements of Cx array\n",
    "    #print (Cxdiff,'\\n\\n')\n",
    "    B=B+.1\n",
    "    if all(t < 0 for t in Cxdiff):\n",
    "        break\n",
    "print (\"The value of initial concentration of B for which concentration of X is monotonically decreasing is:\",\"%.5f\"%B,\"M\")\n",
    "\n",
    "\n",
    "import matplotlib.pyplot as plt\n",
    "#plt.plot(tspan,Cxarr,tspan,Cyarr)\n",
    "plt.plot(tspan,np.log(Caarr),tspan,np.log(Cbarr),tspan,np.log(Cxarr),tspan,np.log(Cyarr),tspan,np.log(Cdarr),tspan,np.log(Cearr))\n",
    "plt.legend (['A','B','X','Y','D','E'],loc=1)\n",
    "plt.xlabel('time (sec)')\n",
    "plt.ylabel('log concentration (M)')\n",
    "\n",
    "plt.show()\n"
   ]
  }
 ],
 "metadata": {
  "kernelspec": {
   "display_name": "Python 3",
   "language": "python",
   "name": "python3"
  },
  "language_info": {
   "codemirror_mode": {
    "name": "ipython",
    "version": 3
   },
   "file_extension": ".py",
   "mimetype": "text/x-python",
   "name": "python",
   "nbconvert_exporter": "python",
   "pygments_lexer": "ipython3",
   "version": "3.6.2"
  },
  "toc": {
   "colors": {
    "hover_highlight": "#DAA520",
    "navigate_num": "#000000",
    "navigate_text": "#333333",
    "running_highlight": "#FF0000",
    "selected_highlight": "#FFD700",
    "sidebar_border": "#EEEEEE",
    "wrapper_background": "#FFFFFF"
   },
   "moveMenuLeft": true,
   "nav_menu": {
    "height": "186px",
    "width": "160px"
   },
   "navigate_menu": true,
   "number_sections": false,
   "sideBar": true,
   "threshold": 4,
   "toc_cell": true,
   "toc_position": {
    "height": "499px",
    "left": "0px",
    "right": "1068px",
    "top": "111px",
    "width": "212px"
   },
   "toc_section_display": "block",
   "toc_window_display": false,
   "widenNotebook": false
  }
 },
 "nbformat": 4,
 "nbformat_minor": 2
}
