{
 "cells": [
  {
   "cell_type": "markdown",
   "metadata": {},
   "source": [
    "18.4/20.0"
   ]
  },
  {
   "cell_type": "markdown",
   "metadata": {},
   "source": [
    "$$\\require{mhchem}$$       "
   ]
  },
  {
   "cell_type": "markdown",
   "metadata": {},
   "source": [
    "# Catalyst rate laws"
   ]
  },
  {
   "cell_type": "markdown",
   "metadata": {},
   "source": [
    "t-butyl alcohol (TBA) is an important enhancer that is used to replace lead additives in gasoline.\n",
    "TBA was produced by the liquid-phase hydration (W) of isobutene (I) over an Amberlyst-15 catalyst (S).\n",
    "The system is normally a multiphase mixture of hydrocarbon, water, and solid catalysts. \n",
    "The use of cosolvents or excess TBA can achieve reasonable miscibility of this mixture.\n",
    "The mechanism is believed to be:\n",
    "\\begin{align}\n",
    "\\ce{ I + S &<=> I\\cdot S}\\\\\n",
    "\\ce{ W + S &<=> W\\cdot S}\\\\\n",
    "\\ce{ W\\cdot S + I \\cdot S &<=> TBA\\cdot S + S}\\\\\n",
    "\\ce{TBA\\cdot S &<=> TBA + S}\n",
    "\\end{align}\n",
    "For each reaction assume a rate constant $k_i$ and an equilibrium constant $K_i$."
   ]
  },
  {
   "cell_type": "markdown",
   "metadata": {},
   "source": [
    "# Note: detailed derivations in attached pdf"
   ]
  },
  {
   "cell_type": "markdown",
   "metadata": {},
   "source": [
    "#### Derive a rate law assuming assuming the surface reaction is rate-limiting."
   ]
  },
  {
   "cell_type": "markdown",
   "metadata": {},
   "source": [
    "For equilibrium:\n",
    "$$k_1[I][S]=k_1/K_1[I.S]$$\n",
    "$$k_2[W][S]=k_2/K_2[W.S]$$\n",
    "$$k_4[TBA.S]=k_4/K_4[TBA][S]$$\n",
    "For slow reaction:\n",
    "$$r_3=k_3[W.S][I.S]-k_3/K_3[TBA.S][S]$$\n",
    "\n",
    "$$[S_0]=[S]+[W.S]+[I.S]+[TBA.S]$$\n",
    "\n",
    "$$r_3=\\frac{k_3.[S_0]^2}{(1+K_2[W]+K1[I]+\\frac{[TBA]}{K4})}.(K1K2[W][I]-\\frac{[TBA]}{K4K3})$$\n"
   ]
  },
  {
   "cell_type": "markdown",
   "metadata": {
    "ExecuteTime": {
     "end_time": "2017-10-19T20:05:31.514853Z",
     "start_time": "2017-10-19T20:05:31.504838Z"
    }
   },
   "source": [
    "#### Derive a rate law assuming assuming the adsorption of isobutene is rate-limiting."
   ]
  },
  {
   "cell_type": "markdown",
   "metadata": {},
   "source": [
    "For equilibrium:\n",
    "\n",
    "$$k_2[W][S]=k_2/K_2[W.S]$$\n",
    "$$k_4[TBA.S]=k_4/K_4[TBA][S]$$\n",
    "$$k_3[W.S][I.S]=k_3'[TSA.S][S]$$\n",
    "\n",
    "For slow reaction:\n",
    "$$r_1 = k_1[I][S]-k_1/K_1[I.S]$$\n",
    "\n",
    "$$[S_0]=[S]+[W.S]+[I.S]+[TBA.S]$$\n",
    "\n",
    "$$r_1=k_1 \\frac{[S0]}{(1+\\frac{[TBA]}{[W]K2K3K4}+K2[W]+\\frac{[TBA]}{K4})}([I]-\\frac{[TBA]}{K2KK3K4[W]})$$\n"
   ]
  },
  {
   "cell_type": "markdown",
   "metadata": {},
   "source": [
    "#### Derive a rate law assuming the reaction follows Eley-Rideal kinetics\n",
    "\\begin{align}\n",
    "\\ce{I\\cdot S + W\\rightarrow TBA\\cdot S}\n",
    "\\end{align}\n",
    " and the surface reaction is rate-limiting."
   ]
  },
  {
   "cell_type": "markdown",
   "metadata": {},
   "source": [
    "For equilibrium:\n",
    "\n",
    "$$k_1[I][S]=k_1/K_1[I.S]$$\n",
    "$$k_2[W][S]=k_2/K_2.[W.S]$$\n",
    "$$k_4[TBA.S]=k_4/K_4.[TBA][S]$$\n",
    "For slow reaction:\n",
    "$$k_3=[W.S][I.S]-k_3/K_3.[TBA.S][S]$$\n",
    "\n",
    "\n",
    "\n",
    "\n",
    " $$r_3=\\frac{[S0][W]k_3K_1[I]}{1+K1[I]+\\frac{[TBA]}{K4}}$$"
   ]
  },
  {
   "cell_type": "markdown",
   "metadata": {},
   "source": [
    "#### Derive a rate law assuming  Isobutene (I) and water (W) are adsorbed on different sites, the surface reaction is rate-limiting, and TBA immediately desorbs upon synthesis:\n",
    "\\begin{align}\n",
    "\\ce{ I + S1 &<=> I\\cdot S1}\\\\\n",
    "\\ce{ W + S2 &<=> W\\cdot S2}\\\\\n",
    "\\ce{ I\\cdot S_1 + W \\cdot S_2 &<=> TBA + S_1 + S_2}\\\\\n",
    "\\end{align}"
   ]
  },
  {
   "cell_type": "markdown",
   "metadata": {},
   "source": [
    "For equilibrium:\n",
    "\n",
    "$$k_1[I][S]=k_1/K_1[I.S]$$\n",
    "$$k_2[W][S]=k_2/K_2.[W.S]$$\n",
    "$$k_4[TBA.S]=k_4/K_4.[TBA][S]$$\n",
    "For the slow step:\n",
    "\n",
    "$$r_3=k3[I.S1][W.S2]-k_3/K3.[TBA][S1][S2]$$\n",
    "\n",
    "\n",
    "$$r_3 = \\frac{k_3.[S1_0][S2_0]}{(1+K_1.[I]).(1+K_2.[W])} . (K_1K_2[I][W] - [TBA]/K_3)$$"
   ]
  },
  {
   "cell_type": "markdown",
   "metadata": {},
   "source": [
    "# Catalyst coking"
   ]
  },
  {
   "cell_type": "markdown",
   "metadata": {},
   "source": [
    "We're using a transient CSTR for a heterogenous catalytic reaction, where the reactants/products\n",
    "are in liquid phase and the catalyst is in a solid phase.\n",
    "\\begin{align}\n",
    "\\ce{A + S &<=> A\\cdot S}\\qquad k_1=0.1\\:s^{-1}M^{-1}\\qquad K_1=5\\: M^{-1}\\\\\n",
    "\\ce{B + S &<=> B\\cdot S}\\qquad k_2=0.2\\:s^{-1}M^{-1}\\qquad K_2=4\\: M^{-1}\\\\\n",
    "\\ce{A\\cdot S + B\\cdot S &<=> C\\cdot S + S }\\qquad k_3=0.8\\:s^{-1}M^{-1}\\qquad K_2=1\\\\\n",
    "\\ce{C\\cdot S &<=> C + S }\\qquad k_4=1.5\\:s^{-1}\\qquad K_4=5\\: M\n",
    "\\end{align}\n",
    "The reactor output is filtered to remove particulate matter so that the catalyst slurry is not\n",
    "removed from the reactor (i.e. liquid A, B, C can leave, but A$\\cdot$S, B$\\cdot$S, or C$\\cdot$S\n",
    "cannot). We feed two separate streams:  stream 1 flows at 0.5 L/s with a 2 M concentration of A,\n",
    "and stream 2 flows at 0.5 L/s with a 2 M concentration of B. You may assume ideal mixing, i.e.,\n",
    "$\\dot{V}_1+\\dot{V}_2=\\dot{V}_{total}$. Initially the reactor is charged with 2 M catalyst (S)\n",
    "and no A or B. The reactor has a fixed volume of 100 L."
   ]
  },
  {
   "cell_type": "markdown",
   "metadata": {},
   "source": [
    "#### Plot the concentration of C in the reactor as a function of time.\n"
   ]
  },
  {
   "cell_type": "code",
   "execution_count": 2,
   "metadata": {},
   "outputs": [
    {
     "data": {
      "image/png": "[encoded data removed]",
      "text/plain": [
       "<matplotlib.figure.Figure at 0x7f80bf3462e8>"
      ]
     },
     "metadata": {},
     "output_type": "display_data"
    },
    {
     "data": {
      "text/plain": [
       "<matplotlib.text.Text at 0x7f80bf215470>"
      ]
     },
     "execution_count": 2,
     "metadata": {},
     "output_type": "execute_result"
    }
   ],
   "source": [
    "k1 = 0.1\n",
    "K1 = 5\n",
    "k2 = 0.2\n",
    "K2 = 4\n",
    "k3 = 0.8\n",
    "K3 = 1\n",
    "k4 = 1.5\n",
    "K4 = 5\n",
    "k5 = 0.1\n",
    "K5 = 1000\n",
    "\n",
    "Fain = 0.5*2\n",
    "Fbin = 0.5*2\n",
    "\n",
    "Fcin = 0\n",
    "v0 = 0.5+0.5\n",
    "Ffin = 0.02*v0\n",
    "\n",
    "V = 100\n",
    "tau = V/v0\n",
    "Cs0 = 2\n",
    "#Cf0 = 0.02\n",
    "\n",
    "def CSTR (C,t):\n",
    "    Ca,Cb,Cc,Cas,Cbs,Ccs,Cs = C\n",
    "    \n",
    "    \n",
    "    r1 = k1*Ca*Cs - (k1/K1)*Cas \n",
    "    r2 = k2*Cb*Cs - (k2/K2)*Cbs\n",
    "    r3 = k3*Cas*Cbs - (k3/K3)*Ccs*Cs\n",
    "    r4 = k4*Ccs - (k4/K4)*Cc*Cs\n",
    "#    r5 = k5*Cf*Cs - (k5/K5)*Cfs\n",
    "    r5=0\n",
    "    #we want Cc\n",
    "    ra = -r1\n",
    "    rb = -r2\n",
    "    rc = r4\n",
    "    rf = -r5\n",
    "    ras = r1-r3\n",
    "    rbs = r2-r3\n",
    "    rcs = r3-r4\n",
    "#    rfs = r5\n",
    "    rs = -r1-r2+r3+r4\n",
    "    \n",
    "    \n",
    "    #dFadt = Fain - v0*Ca + ra*V\n",
    "    dCadt = Fain/V - Ca/tau +ra\n",
    "    #dFbdt = Fbin - v0*Cb + rb*V\n",
    "    dCbdt = Fbin/V - Cb/tau +rb\n",
    "    #dFcdt = Fcin - v0*Cc + rc*V\n",
    "    dCcdt = 0 - Cc/tau +rc\n",
    "    #dFbdt = Ffin - v0*Cf + rf*V\n",
    "#    dCfdt = Ffin/V - Cf/tau +rf\n",
    "    \n",
    "   # dCfdt = Cf0 \n",
    "    dCasdt = ras\n",
    "    dCbsdt = rbs\n",
    "    dCcsdt = rcs\n",
    " #   dCfsdt = rcs\n",
    "    dCsdt =  rs\n",
    "    \n",
    "    dCdt=[dCadt,dCbdt,dCcdt,dCasdt,dCbsdt,dCcsdt,dCsdt]\n",
    "    \n",
    "    return dCdt\n",
    "\n",
    "import numpy as np\n",
    "from scipy.integrate import odeint\n",
    "c = [0,0,0,0,0,0,2]\n",
    "tspan = np.linspace(1,1200)\n",
    "\n",
    "a= odeint(CSTR,c,tspan,rtol=1e-10)\n",
    "#print (a)    \n",
    "Cc = a[:,2]\n",
    "#print(Cc)\n",
    "import matplotlib.pyplot as plt\n",
    "\n",
    "plt.plot(tspan,Cc)\n",
    "plt.show()\n",
    "plt.xlabel(\"time (sec)\")\n",
    "plt.ylabel(\"Conc of C (mol/L)\")\n",
    "plt.title(\"Conc of C vs time\")\n",
    "    "
   ]
  },
  {
   "cell_type": "markdown",
   "metadata": {},
   "source": [
    "#### We discover that there is a small impurity in stream 1 that binds strongly to the catalyst. In addition to A and B there is an additional agent F at 0.02 M, that reacts with the catalyst as:\n",
    "\\begin{align}\n",
    "\\ce{F + S &<=> F\\cdot S}\\qquad k_5=0.1\\: s^{-1}M^{-1},\\qquad K_5=1000\n",
    "\\end{align}\n",
    "Note that this impurity may flow out of the reactor when desorbed (as F), but it may\n",
    "not flow out when adsorbed (as F$\\cdot$S). Plot the concentration of C in the reactor as a function of time."
   ]
  },
  {
   "cell_type": "code",
   "execution_count": 3,
   "metadata": {},
   "outputs": [
    {
     "data": {
      "image/png": "[encoded data removed]",
      "text/plain": [
       "<matplotlib.figure.Figure at 0x7f80bf267b38>"
      ]
     },
     "metadata": {},
     "output_type": "display_data"
    },
    {
     "data": {
      "text/plain": [
       "<matplotlib.text.Text at 0x7f80bf148c18>"
      ]
     },
     "execution_count": 3,
     "metadata": {},
     "output_type": "execute_result"
    }
   ],
   "source": [
    "k1 = 0.1\n",
    "K1 = 5\n",
    "k2 = 0.2\n",
    "K2 = 4\n",
    "k3 = 0.8\n",
    "K3 = 1\n",
    "k4 = 1.5\n",
    "K4 = 5\n",
    "k5 = 0.1\n",
    "K5 = 1000\n",
    "\n",
    "Fain = 0.5*2\n",
    "Fbin = 0.5*2\n",
    "\n",
    "Fcin = 0\n",
    "v0 = 0.5+0.5\n",
    "Ffin = 0.02*v0\n",
    "\n",
    "V = 100\n",
    "tau = V/v0\n",
    "Cs0 = 2\n",
    "Cf0 = 0.02\n",
    "\n",
    "def CSTR (C,t):\n",
    "    Ca,Cb,Cc,Cf,Cas,Cbs,Ccs,Cfs,Cs = C\n",
    "    \n",
    "    \n",
    "    r1 = k1*Ca*Cs - (k1/K1)*Cas \n",
    "    r2 = k2*Cb*Cs - (k2/K2)*Cbs\n",
    "    r3 = k3*Cas*Cbs - (k3/K3)*Ccs*Cs\n",
    "    r4 = k4*Ccs - (k4/K4)*Cc*Cs\n",
    "    r5 = k5*Cf*Cs - (k5/K5)*Cfs\n",
    "    \n",
    "    #we want Cc\n",
    "    ra = -r1\n",
    "    rb = -r2\n",
    "    rc = r4\n",
    "    rf = -r5\n",
    "    ras = r1-r3\n",
    "    rbs = r2-r3\n",
    "    rcs = r3-r4\n",
    "    rfs = r5\n",
    "    rs = -r1-r2-r5+r3+r4\n",
    "    \n",
    "    \n",
    "    #dFadt = Fain - v0*Ca + ra*V\n",
    "    dCadt = Fain/V - Ca/tau +ra\n",
    "    #dFbdt = Fbin - v0*Cb + rb*V\n",
    "    dCbdt = Fbin/V - Cb/tau +rb\n",
    "    #dFcdt = Fcin - v0*Cc + rc*V\n",
    "    dCcdt = 0 - Cc/tau +rc\n",
    "    #dFbdt = Ffin - v0*Cf + rf*V\n",
    "    dCfdt = Ffin/V - Cf/tau +rf\n",
    "    \n",
    "   # dCfdt = Cf0 \n",
    "    dCasdt = ras\n",
    "    dCbsdt = rbs\n",
    "    dCcsdt = rcs\n",
    "    #dCfsdt = rcs\n",
    "    dCfsdt = rfs  # KT fix\n",
    "    dCsdt =  rs\n",
    "    \n",
    "    dCdt=[dCadt,dCbdt,dCcdt,dCfdt,dCasdt,dCbsdt,dCcsdt,dCfsdt,dCsdt]\n",
    "    \n",
    "    return dCdt\n",
    "\n",
    "import numpy as np\n",
    "from scipy.integrate import odeint\n",
    "c = [0,0,0,0,0,0,0,0,2]\n",
    "tspan = np.linspace(1,40000)\n",
    "\n",
    "#a= odeint(CSTR,c,tspan,rtol=1e-10)\n",
    "a= odeint(CSTR,c,tspan)\n",
    "#print (a)    \n",
    "Cc = a[:,2]\n",
    "#print(Cc)\n",
    "import matplotlib.pyplot as plt\n",
    "\n",
    "plt.plot(tspan,Cc)\n",
    "plt.show()\n",
    "plt.xlabel(\"time (sec)\")\n",
    "plt.ylabel(\"Conc of C (mol/L)\")\n",
    "plt.title(\"Conc of C vs time\")\n",
    "    "
   ]
  },
  {
   "cell_type": "markdown",
   "metadata": {},
   "source": [
    "-1.6 points (2.4/4.0)"
   ]
  },
  {
   "cell_type": "code",
   "execution_count": null,
   "metadata": {
    "collapsed": true
   },
   "outputs": [],
   "source": []
  }
 ],
 "metadata": {
  "kernelspec": {
   "display_name": "Python 3",
   "language": "python",
   "name": "python3"
  },
  "language_info": {
   "codemirror_mode": {
    "name": "ipython",
    "version": 3
   },
   "file_extension": ".py",
   "mimetype": "text/x-python",
   "name": "python",
   "nbconvert_exporter": "python",
   "pygments_lexer": "ipython3",
   "version": "3.6.2"
  },
  "toc": {
   "colors": {
    "hover_highlight": "#DAA520",
    "navigate_num": "#000000",
    "navigate_text": "#333333",
    "running_highlight": "#FF0000",
    "selected_highlight": "#FFD700",
    "sidebar_border": "#EEEEEE",
    "wrapper_background": "#FFFFFF"
   },
   "moveMenuLeft": true,
   "nav_menu": {
    "height": "29px",
    "width": "252px"
   },
   "navigate_menu": true,
   "number_sections": true,
   "sideBar": true,
   "threshold": 4,
   "toc_cell": false,
   "toc_section_display": "block",
   "toc_window_display": false,
   "widenNotebook": false
  }
 },
 "nbformat": 4,
 "nbformat_minor": 2
}
