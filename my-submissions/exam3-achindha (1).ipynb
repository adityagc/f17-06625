{
 "cells": [
  {
   "cell_type": "markdown",
   "metadata": {},
   "source": [
    "$$\\require{mhchem}$$       "
   ]
  },
  {
   "cell_type": "code",
   "execution_count": 1,
   "metadata": {},
   "outputs": [],
   "source": [
    "import matplotlib.pyplot as plt\n",
    "import numpy as np\n",
    "from scipy.optimize import fsolve\n",
    "from scipy.integrate import odeint\n",
    "from pycse import odelay\n",
    "from scipy.optimize import minimize\n",
    "from scipy.integrate import quad\n",
    "import quantities as u\n",
    "import uncertainties as un\n",
    "from scipy.optimize import root\n",
    "from scipy.optimize import fmin\n",
    "np.set_printoptions(precision=3)  # alternate approach to printing accuracy\n"
   ]
  },
  {
   "cell_type": "markdown",
   "metadata": {},
   "source": [
    "- Label the x/y axis of graphs (and legend if appropriate)\n",
    "- Comment your code so we understand what you're doing\n",
    "- 'print' your identified solutions / fitted constants with units"
   ]
  },
  {
   "cell_type": "markdown",
   "metadata": {},
   "source": [
    "# Effectiveness factors (30 pt)"
   ]
  },
  {
   "cell_type": "markdown",
   "metadata": {},
   "source": [
    "The following second-order gas-phase catalytic reaction is conducted in an isothermal fixed-bed reactor.\n",
    "\\begin{align*}\n",
    "\\ce{A->B}\n",
    "\\end{align*}\n",
    "The volumetric rate constant inside the catalyst particle is 15.0 L/mol/s at 800 K.\n",
    "The feed is 1,500 L/hr of pure A at 10.0 atm and 800 K.\n",
    "Spherical catalyst pellets of radius 1.2 cm are used to pack the reactor.\n",
    "The catalyst particles have a density of 0.9 g/cm$^3$.\n",
    "The effective diffusivity of A inside the catalyst pellet is 2.06 $\\times 10^{-4}$ cm$^2$/s.\n",
    "There is no pressure drop."
   ]
  },
  {
   "cell_type": "markdown",
   "metadata": {},
   "source": [
    "####  Calculate the Thiele modulus at the inlet of the reactor. (6 pt)"
   ]
  },
  {
   "cell_type": "code",
   "execution_count": 2,
   "metadata": {},
   "outputs": [
    {
     "name": "stdout",
     "output_type": "stream",
     "text": [
      "The value of Thiele modulus is 51.6138 \n"
     ]
    }
   ],
   "source": [
    "D = 2.06*10**(-4) #cm2/s\n",
    "rad = 1.2 #cm\n",
    "a = rad/3 \n",
    "k = 15 #l/mol/s\n",
    "n = 2 #power law kinetics\n",
    "T = 800 #K\n",
    "P = 10 #atm\n",
    "R = 0.082 #l.atm.K-1.mol-1\n",
    "rhocat = 0.9 #g/cm3\n",
    "Cas = P/(R*T) #surface concentration ~= bulk concentration at inlet conditions\n",
    "phi = ((n+1)/2*(k*Cas*a**2/D))**0.5\n",
    "print(\"The value of Thiele modulus is {0:1.4f} \".format(phi))\n",
    "#6"
   ]
  },
  {
   "cell_type": "markdown",
   "metadata": {},
   "source": [
    "####  Calculate the reaction rate per gram of catalyst particle at the inlet of the reactor. Use the following modified form for the effective reaction rate: (4 pt)\n",
    "\\begin{equation}\n",
    "r = -k\\: c_{As}^n\\frac{\\eta}{\\rho_{cat}}\n",
    "\\end{equation}"
   ]
  },
  {
   "cell_type": "code",
   "execution_count": 3,
   "metadata": {},
   "outputs": [
    {
     "name": "stdout",
     "output_type": "stream",
     "text": [
      "The reaction rate per gram catalyst is -7.45523750822e-06 mol/g.s\n"
     ]
    }
   ],
   "source": [
    "eta = 1/phi * (1/np.tanh(3*phi) - 1/(3*phi))\n",
    "r = -k*(Cas**2) * eta /(1000*rhocat) #divide by 1000 to get cm3\n",
    "print(\"The reaction rate per gram catalyst is\",r,\"mol/g.s\")\n",
    "#4"
   ]
  },
  {
   "cell_type": "markdown",
   "metadata": {},
   "source": [
    "#### Calculate the concentration profile of $A$ for a reactor with 50 kg of catalyst. Note that $C_A$ is varying, so the Thiele modulus and effectiveness factor will change as well. (15 pt)"
   ]
  },
  {
   "cell_type": "code",
   "execution_count": 4,
   "metadata": {},
   "outputs": [
    {
     "data": {
      "image/png": "[encoded data removed]",
      "text/plain": [
       "<matplotlib.figure.Figure at 0x7f24a0f6d128>"
      ]
     },
     "metadata": {},
     "output_type": "display_data"
    }
   ],
   "source": [
    "D = 2.06*10**(-4) #cm2/s\n",
    "rad = 1.2 #cm\n",
    "a = rad/3 \n",
    "k = 15 #l/mol/s\n",
    "n = 2 #power law kinetics\n",
    "T = 800 #K\n",
    "P = 10 #atm\n",
    "R = 0.082 #l.atm.K-1.mol-1\n",
    "rhocat = 0.9 #g/cm3\n",
    "\n",
    "v0 = 1500 #L/hr\n",
    "Fa0 = v0 * Cas  #mol/hr\n",
    "Fb0 = 0.000001\n",
    "F0 = [Fa0,Fb0]\n",
    "Wmax = 50000 #g\n",
    "Wspan = np.linspace(0,Wmax,num = 1000)\n",
    "F=[Fa0,Fb0]\n",
    "def PBR(F, W):\n",
    "    Fa, Fb = F  # unpack the variables\n",
    "\n",
    "    Ft = Fa + Fb \n",
    "\n",
    "    Pa = Fa / Ft * P\n",
    "    Pb = Fb / Ft * P\n",
    "\n",
    "    Ca = Pa/(R*T)\n",
    "    Cb = Pb/(R*T)\n",
    "\n",
    "    phi = (3./2.*(k*Ca*a**2./D))**0.5\n",
    "    eta = 1/phi * (1/np.tanh(3*phi) - 1/(3*phi))\n",
    "\n",
    "    # the stoichiometry\n",
    "    r = -k*(Ca**2) * eta /(1000*rhocat) #divide by 1000 to get cm3\n",
    "\n",
    "    ra = r\n",
    "    rb = -r\n",
    "\n",
    "\n",
    "    # define the 4 coupled ODES\n",
    "    dFadW = ra\n",
    "    dFbdW = rb\n",
    "\n",
    "    return [dFadW, dFbdW]\n",
    "a = odeint(PBR,[Fa0,0],Wspan)\n",
    "plt.plot(Wspan,a[:,0]/v0)\n",
    "plt.xlabel(\"W cat in grams\")\n",
    "plt.ylabel(\"Ca in mol/l\")\n",
    "plt.legend(['a'], loc='best')\n",
    "plt.title(\"\")\n",
    "plt.grid()\n",
    "plt.show()\n",
    "\n",
    "#the concentrations obtained are too high.check the units of rate.\n",
    "#10"
   ]
  },
  {
   "cell_type": "markdown",
   "metadata": {},
   "source": [
    "#### Calculate the mass of catalyst necessary to reach 85% conversion. (5 pt)"
   ]
  },
  {
   "cell_type": "code",
   "execution_count": 5,
   "metadata": {},
   "outputs": [
    {
     "name": "stdout",
     "output_type": "stream",
     "text": [
      "The value of W which gives 85% conversion is 50000.0 grams\n"
     ]
    }
   ],
   "source": [
    "D = 2.06*10**(-4) #cm2/s\n",
    "rad = 1.2 #cm\n",
    "a = rad/3 \n",
    "k = 15 #l/mol/s\n",
    "n = 2 #power law kinetics\n",
    "T = 800 #K\n",
    "P = 10 #atm\n",
    "R = 0.082 #l.atm.K-1.mol-1\n",
    "rhocat = 0.9 #g/cm3\n",
    "\n",
    "v0 = 1500 #L/hr\n",
    "Fa0 = v0 * Cas  #mol/hr\n",
    "Fb0 = 0.000001\n",
    "F0 = [Fa0,Fb0]\n",
    "Wmax = 50000 #g\n",
    "Wspan = np.linspace(0,Wmax,num = 1000)\n",
    "F=[Fa0,Fb0]\n",
    "def PBR(F, W):\n",
    "    Fa, Fb = F  # unpack the variables\n",
    "\n",
    "    Ft = Fa + Fb \n",
    "\n",
    "    Pa = Fa / Ft * P\n",
    "    Pb = Fb / Ft * P\n",
    "\n",
    "    Ca = Pa/(R*T)\n",
    "    Cb = Pb/(R*T)\n",
    "\n",
    "    phi = (3./2.*(k*Ca*a**2./D))**0.5\n",
    "    eta = 1/phi * (1/np.tanh(3*phi) - 1/(3*phi))\n",
    "\n",
    "    # the stoichiometry\n",
    "    r = -k*(Ca**2) * eta /(1000*rhocat) #divide by 1000 to get cm3\n",
    "\n",
    "    ra = r\n",
    "    rb = -r\n",
    "\n",
    "\n",
    "    # define the 4 coupled ODES\n",
    "    dFadW = ra\n",
    "    dFbdW = rb\n",
    "\n",
    "    return [dFadW, dFbdW]\n",
    "\n",
    "def event1(F, W):\n",
    "    Fa,Fb= F\n",
    "    conv = (Fa0-Fa)/Fa0\n",
    "    value = abs(conv-0.85)\n",
    "    isterminal = True\n",
    "    direction = 0       # all zeros\n",
    "    return value, isterminal, direction\n",
    "x, y, te, ye, ie = odelay(PBR, F0, Wspan, [event1])\n",
    "print(\"The value of W which gives 85% conversion is\",x[-1],\"grams\")\n",
    "\n",
    "#check solution. \n",
    "#The concentration of A obtained are too high\n",
    "#3.5"
   ]
  },
  {
   "cell_type": "code",
   "execution_count": null,
   "metadata": {},
   "outputs": [],
   "source": []
  },
  {
   "cell_type": "markdown",
   "metadata": {},
   "source": [
    "# Transient, non-isothermal reactor (50 pt)"
   ]
  },
  {
   "cell_type": "markdown",
   "metadata": {},
   "source": [
    "The liquid phase reactions\n",
    "\\begin{align*}\n",
    "\\ce{A->B}\\\\\n",
    "\\ce{A->C}\n",
    "\\end{align*}\n",
    "are each first order in the concentration of A.  The feed to a nonisothermal transient CSTR contains pure A at 45 $^{\\circ}$C and 5 mol/L.  We want to operate this reactor such that the selectivity to B is greater than the selectivity to C.  The following parameters apply:\n",
    "\n",
    "| Parameter       | Value                                    | Units   |\n",
    "|-----------------|------------------------------------------|---------|\n",
    "| $M_t$           | 93,200                                   | g/min   |\n",
    "| $\\Delta H_{r1}$ | -12,000                                  | cal/mol |\n",
    "| $\\Delta H_{r2}$ | -15,000                                  | cal/mol |\n",
    "| V               | 1,000                                    | L       |\n",
    "| $Q_f$           | 100                                      | L/min   |\n",
    "| $C_{pf}$        | 0.22                                     | cal/g/K |\n",
    "| $k_1$           | $3.16 \\times 10^{14}\\exp (-12,500 [K]/T)$ | 1/min   |\n",
    "| $k_2$           | $2.52 \\times 10^{9}\\exp (-8,500 [K]/T) $  | 1/min   |\n",
    "\n",
    "The CSTR has a cooling bath at 50 $^{\\circ}$C and a $Ua$ of 100,000 cal/min/K.  The reactor initially starts at 45 $^{\\circ}$C and C$_a$=C$_b$=C$_c$=0 M. The total mass in the reactor is $V M_t / Q_f$."
   ]
  },
  {
   "cell_type": "markdown",
   "metadata": {},
   "source": [
    "#### If you want to increase selectivity in the reactor ($C_B/C_C$), should you increase or decrease the temperature in the reactor? (5 pt)"
   ]
  },
  {
   "cell_type": "markdown",
   "metadata": {},
   "source": [
    "dk1/dt = -125000*(large number)\n",
    "dk2/dt = -smaller number\n",
    "hence in order to increase k1, we need to reduce the temperature"
   ]
  },
  {
   "cell_type": "markdown",
   "metadata": {},
   "source": [
    "KT:  You are looking at the pre-exponential factor. You should be looking at the exponential constant instead. The pre-exponential factor dictates the activity of the reactions, while the exponential constants dictate their sensitivity to temperature. The first reaction is more sensitive to temperature, so increasing temperature will increase the reaction rate of reaction 1 faster than reaction 2.\n",
    "\n",
    "2/5"
   ]
  },
  {
   "cell_type": "markdown",
   "metadata": {},
   "source": [
    "#### Calculate the  transient temperature and concentrations in this reactor.  You may assume the heats of reactions are constant w.r.t to temperature ( since Cpa=Cpb=Cpc, dCp=0) for the first 40 minutes. (30 pt)"
   ]
  },
  {
   "cell_type": "code",
   "execution_count": 23,
   "metadata": {},
   "outputs": [
    {
     "data": {
      "image/png": "[encoded data removed]",
      "text/plain": [
       "<matplotlib.figure.Figure at 0x7f249eee2748>"
      ]
     },
     "metadata": {},
     "output_type": "display_data"
    }
   ],
   "source": [
    "import numpy as np\n",
    "M_t   = 93,200 # g/min   |\n",
    "dHrxn1 = -12000    # cal/mol |\n",
    "dHrxn2= -15000   # cal/mol |\n",
    "V  = 1000   # L       |\n",
    "Qf =100 # L/min   |\n",
    "Cp = 0.22  # cal/g/K |\n",
    "T=274\n",
    "k_1 = 3.16 * (10**14) *np.exp(-12500 /T) #1/min \n",
    "k_2= 2.52 * (10**9) * np.exp(-8500 /T) #| 1/min  \n",
    "T0 = 45+273\n",
    "U = 100000 #cal/min/K\n",
    "Tc = 50+273\n",
    "Cp = Ca0 = Cb0 = Cc0  = 0\n",
    "v0 = 93200\n",
    "Fc0 = 0\n",
    "def transient_cstr (N,t):\n",
    "    Na,Nb,Nc,T = N\n",
    "    \n",
    "    Ca = Na/V\n",
    "    Cb = Nb/V\n",
    "    Cc = Nc/V\n",
    "    \n",
    "    Fa = Na*v0/V\n",
    "    Fb = Nb*v0/V\n",
    "    \n",
    "   \n",
    "    k1 = 3.16 * (10**14) *np.exp(-12500 /T)\n",
    "    k2= 2.52 * (10**9) * np.exp(-8500 /T)\n",
    "    \n",
    "   \n",
    "    r1 = k1*Ca\n",
    "    r2 = k2*Ca\n",
    "    \n",
    "    ra = -r1 - r2\n",
    "    rb = r1\n",
    "    rc = r2\n",
    "    Qdot = U*(Tc-T)\n",
    "    \n",
    "    dNadt = Fa0 - Fa + ra*V\n",
    "    dNbdt = Fb0 - Fb + rb*V\n",
    "    dNcdt = Fb0 - Fb + rb*V\n",
    "    dTdt = (((Fa0*Cp+Fb0*Cp+Fc0*Cp)*(T0-T)-dHrxn1*r1*V-dHrxn2*r2*V+Qdot)/(Na*Cp + Nb*Cp + Nc*Cp))\n",
    "    return [dNadt,dNbdt,dNcdt,dTdt]\n",
    "tspan = np.linspace(0,40)\n",
    "N0 = [Ca0*V,Cb0*V,Cc0*V,50+273]\n",
    "a = odeint(transient_cstr,N0,tspan)\n",
    "plt.plot(tspan,a[:,0],tspan,a[:,1],tspan,a[:,2])\n",
    "plt.show()\n",
    "\n"
   ]
  },
  {
   "cell_type": "markdown",
   "metadata": {},
   "source": [
    "- Wrong thermal mass in demonitor of energy balance (-2)\n",
    "- Wrong flow term in thermal balance (-2)\n",
    "- You still have mol/mass balances for C, and your rate for A and B are wrong (based on the example you took this from) (-6)\n",
    "- Wrong Cp (-1) \n",
    "- Typo ',' in M_T (-1)\n",
    "\n",
    "18/30"
   ]
  },
  {
   "cell_type": "markdown",
   "metadata": {},
   "source": [
    "#### Calculate the cumulative selectivity of this reactor at 40 min, defined as $C_B/C_C$, as a function of the bath temperature, from 30 $^{\\circ}$C to 60 $^{\\circ}$C. (10 pt)"
   ]
  },
  {
   "cell_type": "code",
   "execution_count": 7,
   "metadata": {},
   "outputs": [
    {
     "ename": "SyntaxError",
     "evalue": "invalid syntax (<ipython-input-7-a21a31a976fa>, line 16)",
     "output_type": "error",
     "traceback": [
      "\u001b[0;36m  File \u001b[0;32m\"<ipython-input-7-a21a31a976fa>\"\u001b[0;36m, line \u001b[0;32m16\u001b[0m\n\u001b[0;31m    fot Tc in range(30,60):\u001b[0m\n\u001b[0m         ^\u001b[0m\n\u001b[0;31mSyntaxError\u001b[0m\u001b[0;31m:\u001b[0m invalid syntax\n"
     ]
    }
   ],
   "source": [
    "import numpy as np\n",
    "M_t   = 93,200 # g/min   |\n",
    "dHrxn1 = -12000    # cal/mol |\n",
    "dHrxn2= -15000   # cal/mol |\n",
    "V  = 1000   # L       |\n",
    "Qf =100 # L/min   |\n",
    "Cpf  = 0.22  # cal/g/K |\n",
    "T=274\n",
    "k_1 = 3.16 * (10**14) *np.exp(-12500 /T) #1/min \n",
    "k_2= 2.52 * (10**9) * np.exp(-8500 /T) #| 1/min  \n",
    "T0 = 45+273\n",
    "U = 100000 #cal/min/K\n",
    "Tc = 50+273\n",
    "Ca0 = Cb0 = Cc0  = 0\n",
    "\n",
    "fot Tc in range(30,60):\n",
    "    def transient_cstr (N,t):\n",
    "        Na,Nb,Nc,T = N\n",
    "\n",
    "        Ca = Na/V\n",
    "        Cb = Nb/V\n",
    "        Cc = Nc/V\n",
    "\n",
    "        Fa = Na*v0/V\n",
    "        Fb = Nb*v0/V\n",
    "\n",
    "\n",
    "        k_1 = 3.16 * (10**14) *np.exp(-12500 /T)\n",
    "        k_2= 2.52 * (10**9) * np.exp(-8500 /T)\n",
    "\n",
    "\n",
    "        r1 = k1*Ca\n",
    "        r2 = k2*Ca\n",
    "\n",
    "        ra = -r1 - r2\n",
    "        rb = r1\n",
    "        rc = r2\n",
    "        Qdot = U*(Tc-T)\n",
    "\n",
    "        dNadt = Fa0 - Fa + ra*V\n",
    "        dNbdt = Fb0 - Fb + rb*V\n",
    "        dNcdt = Fb0 - Fb + rb*V\n",
    "        dTdt = (((Fa0*Cp+Fb0*Cp+Fc0*Cp)*(T0-T)-dHrxn1*r1*V-dHrxn2*r2*V+Qdot)/(Na*Cp + Nb*Cp + Nc*Cp))\n",
    "        return [dNadt,dNbdt,dTdt]\n",
    "    tspan = np.linspace(0,40)\n",
    "    N0 = [Ca0*V,Cb0*V,Cc0*V,50+273]\n",
    "    a = odeint(transient_cstr,N0,tspan)\n",
    "    sel = a[-1,1]/a[-1,2]\n",
    "    print(sel)\n"
   ]
  },
  {
   "cell_type": "markdown",
   "metadata": {},
   "source": [
    "- On the right track. \n",
    "- You have the wrong temperature (C instead of K), -1 pt\n",
    "- Plots -3 pt\n",
    "\n",
    "6/10"
   ]
  },
  {
   "cell_type": "markdown",
   "metadata": {},
   "source": [
    "#### Describe the profile and selectivity plots you made (a few sentences or bullets). Discuss any abnormalities you may see and why they appear. [5 pt]"
   ]
  },
  {
   "cell_type": "markdown",
   "metadata": {},
   "source": [
    "Selectivity decreases with temperature"
   ]
  },
  {
   "cell_type": "markdown",
   "metadata": {},
   "source": [
    "0/5"
   ]
  },
  {
   "cell_type": "markdown",
   "metadata": {},
   "source": [
    "# Short answers (explain with 1-2 sentences)"
   ]
  },
  {
   "cell_type": "markdown",
   "metadata": {},
   "source": [
    "#### A 5-L adiabatic, catalytic PFR has a conversion of 55% for the reaction A(g) $\\rightarrow$ B(g). The inlet flow rate was cut in half, but the conversion only increased to 56%. Of the three following explanations, which one(s) may explain this phenomenon? (5 pt)\n",
    "1. reaction is limited by mass transfer\t\n",
    "2. reaction is equilibrium limited\t\n",
    "3. the decrease in velocity due to the increase in moles limits the conversion\t"
   ]
  },
  {
   "cell_type": "markdown",
   "metadata": {},
   "source": [
    "It could be due to either of 1 or 2. \n",
    "1) All the possible sites would be filled up even when flowrate was half. So when it was doubled, it didnt make a difference as the sites would still be filled up with half the flowrate\n",
    "2) The equilibrium conversion could lie closer to 56% so increasing the retention time would not make a difference"
   ]
  },
  {
   "cell_type": "markdown",
   "metadata": {},
   "source": [
    "KT:  Correct explanation for 2. But if the reaction was limited by mass transfer, then \"All the possible sites\" would *not* be filled before cutting the flowrate. Therefore, cutting the flowrate should increase residence time and start filling the sites, thereby increase conversion drastically.\n",
    "\n",
    "4/5"
   ]
  },
  {
   "cell_type": "markdown",
   "metadata": {},
   "source": [
    "#### The concentration of A vs. distance in a PFR is shown for the first-order, exothermic reaction A $\\rightarrow$ B. One curve represents an isothermal reactor, and the other an adiabatic reactor. Which statement is correct? (5 pt)\n",
    "- 1 is adiabatic, 2 is isothermal\t\n",
    "- 1 is isothermal, 2 is adiabatic\t\n",
    "- Either could be adiabatic or isothermal\t\n",
    "\n",
    "![img](./20110902212632130d3e0582858752caea2af4d16c43da.gif)\n"
   ]
  },
  {
   "cell_type": "markdown",
   "metadata": {},
   "source": [
    "Option 2:\n",
    "In plot 2,As reaction proceeds towards right, the temperature rises, pushing down the equilibrium conversion. Hence the rate goes to near 0\n",
    "In plot 1, as heat is being continuosuly removed, we can achieve even full conversion as the temperature remains the same."
   ]
  },
  {
   "cell_type": "markdown",
   "metadata": {},
   "source": [
    "KT:  Increases in temperature do not \"push down equilibrium conversion\"; changes in temperature affect kinetics, not thermodynamics. So an adiabatic reactor would yield a faster conversion, which is shown by curve 1.\n",
    "\n",
    "2/5"
   ]
  },
  {
   "cell_type": "markdown",
   "metadata": {},
   "source": [
    "#### At a fixed O$_2$ pressure for the reaction:  (5 pt)\n",
    "\n",
    "$\\ce{CO + 1/2O2 -> CO2}$\n",
    "\n",
    "the CO pressure increased from zero to a large number. If the reaction follows the Langmuir-Hinshelwood mechanism, what happens to the rate of reaction?\n",
    "- goes through a maximum\t\n",
    "- goes through a minimum\t\n",
    "- increases slowly at first, then more rapidly\t\n",
    "- increases quickly at first, then more slowly\t"
   ]
  },
  {
   "cell_type": "markdown",
   "metadata": {},
   "source": [
    "option D:\n",
    "    Initially, due to high CO concentration, the rate rises rapidly. As the active sites get filled up, the reaction rate drops down."
   ]
  },
  {
   "cell_type": "markdown",
   "metadata": {},
   "source": [
    "KT:  I believe you misinterpreted the statement. \"Increases quickly at first, then more slowly\" means that the reaction rate continues to increase the entire time, which you say otherwise when you say \"reaction rate drops down\". I think you wanted the \"goes through a maximum\" answer.\n",
    "\n",
    "3.5/5.0"
   ]
  },
  {
   "cell_type": "markdown",
   "metadata": {},
   "source": [
    "#### A plot of rate versus distance along an adiabatic PFR for a 1st-order reaction is shown below (original). Which curve (A,B,C, D) will the plot look like if the feed temperature were increased? (5 pt)\n",
    "![img](./2011090310020582250ee1b17678c159deb817f8252880.gif)\n"
   ]
  },
  {
   "cell_type": "markdown",
   "metadata": {
    "collapsed": true
   },
   "source": [
    "It will be more like plot A. Initially, due to high temperature, we get high kinetics with high temperature. However, the equilibrium is achieved faster and hence the rate drops to 0 very fast."
   ]
  },
  {
   "cell_type": "markdown",
   "metadata": {},
   "source": [
    "5/5"
   ]
  }
 ],
 "metadata": {
  "kernelspec": {
   "display_name": "Python 3",
   "language": "python",
   "name": "python3"
  },
  "language_info": {
   "codemirror_mode": {
    "name": "ipython",
    "version": 3
   },
   "file_extension": ".py",
   "mimetype": "text/x-python",
   "name": "python",
   "nbconvert_exporter": "python",
   "pygments_lexer": "ipython3",
   "version": "3.6.2"
  },
  "toc": {
   "colors": {
    "hover_highlight": "#DAA520",
    "navigate_num": "#000000",
    "navigate_text": "#333333",
    "running_highlight": "#FF0000",
    "selected_highlight": "#FFD700",
    "sidebar_border": "#EEEEEE",
    "wrapper_background": "#FFFFFF"
   },
   "moveMenuLeft": true,
   "nav_menu": {
    "height": "11px",
    "width": "252px"
   },
   "navigate_menu": true,
   "number_sections": true,
   "sideBar": true,
   "threshold": 4,
   "toc_cell": false,
   "toc_section_display": "block",
   "toc_window_display": false,
   "widenNotebook": false
  }
 },
 "nbformat": 4,
 "nbformat_minor": 2
}
